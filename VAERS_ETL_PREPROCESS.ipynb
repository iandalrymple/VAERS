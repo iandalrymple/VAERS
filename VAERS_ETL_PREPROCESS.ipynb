{
 "cells": [
  {
   "cell_type": "code",
   "execution_count": 1,
   "metadata": {},
   "outputs": [],
   "source": [
    "# Imports \n",
    "import numpy as np\n",
    "import pandas as pd\n",
    "import pyodbc as db\n",
    "import matplotlib.pyplot as plt\n",
    "import os\n",
    "%matplotlib inline\n",
    "import requests\n",
    "from requests.auth import HTTPBasicAuth\n",
    "from io import StringIO\n",
    "from sodapy import Socrata\n",
    "from datetime import date\n",
    "import datetime\n",
    "import seaborn as sns\n",
    "import configparser\n",
    "\n",
    "# Constants \n",
    "stringVAERSDATA     = \"VAERSDATA\"\n",
    "stringVAERSSYMPTOMS = \"VAERSSYMPTOMS\"\n",
    "stringVAERSVAX      = \"VAERSVAX\"\n",
    "inputDirectory      = \".\\RAW_DATA\"\n",
    "reworkedInputs      = \".\\REWORKED_DATA\"\n",
    "outputDirectory     = \".\\OUTPUT\"\n",
    "pklInputDirectory   = \".\\INPUT\""
   ]
  },
  {
   "cell_type": "code",
   "execution_count": 2,
   "metadata": {},
   "outputs": [
    {
     "name": "stderr",
     "output_type": "stream",
     "text": [
      "C:\\Users\\IanD\\AppData\\Local\\Temp/ipykernel_13632/1860838712.py:3: DeprecationWarning: `np.object` is a deprecated alias for the builtin `object`. To silence this warning, use `object` by itself. Doing this will not modify any behavior and is safe. \n",
      "Deprecated in NumPy 1.20; for more details and guidance: https://numpy.org/devdocs/release/1.20.0-notes.html#deprecations\n",
      "  dtype_VAERSDATA = {\"VAERS_ID\": np.int64, \"RECVDATE\": np.object, \"STATE\": np.str, \"AGE_YRS\": np.float64, \"CAGE_YR\": np.float64, \"CAGE_MO\": np.float64, \"SEX\": np.str, \"RPT_VDATE\": np.object, \"SYMPTOM_TEXT\": np.str, \"DIED\": np.str, \"DATEDIED\": np.object, \"L_THREAD\": np.str, \"ER_VISIT\": np.str}\n",
      "C:\\Users\\IanD\\AppData\\Local\\Temp/ipykernel_13632/1860838712.py:3: DeprecationWarning: `np.str` is a deprecated alias for the builtin `str`. To silence this warning, use `str` by itself. Doing this will not modify any behavior and is safe. If you specifically wanted the numpy scalar type, use `np.str_` here.\n",
      "Deprecated in NumPy 1.20; for more details and guidance: https://numpy.org/devdocs/release/1.20.0-notes.html#deprecations\n",
      "  dtype_VAERSDATA = {\"VAERS_ID\": np.int64, \"RECVDATE\": np.object, \"STATE\": np.str, \"AGE_YRS\": np.float64, \"CAGE_YR\": np.float64, \"CAGE_MO\": np.float64, \"SEX\": np.str, \"RPT_VDATE\": np.object, \"SYMPTOM_TEXT\": np.str, \"DIED\": np.str, \"DATEDIED\": np.object, \"L_THREAD\": np.str, \"ER_VISIT\": np.str}\n",
      "C:\\ProgramData\\Anaconda3\\lib\\site-packages\\IPython\\core\\interactiveshell.py:3444: DtypeWarning: Columns (11,13,15,16,27) have mixed types.Specify dtype option on import or set low_memory=False.\n",
      "  exec(code_obj, self.user_global_ns, self.user_ns)\n",
      "C:\\ProgramData\\Anaconda3\\lib\\site-packages\\IPython\\core\\interactiveshell.py:3444: DtypeWarning: Columns (31) have mixed types.Specify dtype option on import or set low_memory=False.\n",
      "  exec(code_obj, self.user_global_ns, self.user_ns)\n",
      "C:\\ProgramData\\Anaconda3\\lib\\site-packages\\IPython\\core\\interactiveshell.py:3444: DtypeWarning: Columns (7,15,23,31) have mixed types.Specify dtype option on import or set low_memory=False.\n",
      "  exec(code_obj, self.user_global_ns, self.user_ns)\n",
      "C:\\ProgramData\\Anaconda3\\lib\\site-packages\\IPython\\core\\interactiveshell.py:3444: DtypeWarning: Columns (7,15,23) have mixed types.Specify dtype option on import or set low_memory=False.\n",
      "  exec(code_obj, self.user_global_ns, self.user_ns)\n",
      "C:\\ProgramData\\Anaconda3\\lib\\site-packages\\IPython\\core\\interactiveshell.py:3444: DtypeWarning: Columns (7,23) have mixed types.Specify dtype option on import or set low_memory=False.\n",
      "  exec(code_obj, self.user_global_ns, self.user_ns)\n",
      "C:\\ProgramData\\Anaconda3\\lib\\site-packages\\IPython\\core\\interactiveshell.py:3444: DtypeWarning: Columns (7,23,27,30,31,32,33,34) have mixed types.Specify dtype option on import or set low_memory=False.\n",
      "  exec(code_obj, self.user_global_ns, self.user_ns)\n"
     ]
    }
   ],
   "source": [
    "# @TODO Column datatypes - need to finish  - getting the following warning when reading in files:\n",
    "# DtypeWarning: Columns (11,13,15,16,27) have mixed types.Specify dtype option on import or set low_memory=False. interactivity=interactivity, compiler=compiler, result=result)\n",
    "dtype_VAERSDATA = {\"VAERS_ID\": np.int64, \"RECVDATE\": np.object, \"STATE\": np.str, \"AGE_YRS\": np.float64, \"CAGE_YR\": np.float64, \"CAGE_MO\": np.float64, \"SEX\": np.str, \"RPT_VDATE\": np.object, \"SYMPTOM_TEXT\": np.str, \"DIED\": np.str, \"DATEDIED\": np.object, \"L_THREAD\": np.str, \"ER_VISIT\": np.str}\n",
    "\n",
    "# Iterate over files \n",
    "for filename in os.listdir(inputDirectory):\n",
    "\n",
    "    # Create the file name \n",
    "    fullFilename = os.path.join(inputDirectory, filename)\n",
    "\n",
    "    # Ensure its a file\n",
    "    if os.path.isfile(fullFilename):\n",
    "\n",
    "        # Overall\n",
    "        if(fullFilename.__contains__(stringVAERSDATA)):\n",
    "\n",
    "            # Read in the file to this dataframe directly \n",
    "            dfVAERSDATA = pd.read_csv(fullFilename, encoding='cp1252', dtype=dtype_VAERSDATA)\n",
    "\n",
    "            # Pull out all the commas from the string columns \n",
    "            for name, value in dfVAERSDATA.iteritems():\n",
    "                if(dfVAERSDATA.dtypes[name] == \"O\"):\n",
    "                    dfVAERSDATA[name] = dfVAERSDATA[name].str.replace(\",\", \"!!!\")\n",
    "\n",
    "            # Drop the symptom text column to reduce the total size \n",
    "            dfVAERSDATA = dfVAERSDATA.drop(\"SYMPTOM_TEXT\", axis=\"columns\")\n",
    "\n",
    "            # Save out to file now \n",
    "            dfVAERSDATA.to_csv(reworkedInputs + \"\\\\\" + filename, index=False)\n",
    "\n",
    "        # Symptoms\n",
    "        elif(fullFilename.__contains__(stringVAERSSYMPTOMS)):\n",
    "                         \n",
    "            # Read in the file to this dataframe directly \n",
    "            dfVAERSSYMPTOMS = pd.read_csv(fullFilename, encoding='cp1252')\n",
    "\n",
    "            # Pull out all the commas from the string columns \n",
    "            for name, value in dfVAERSSYMPTOMS.iteritems():\n",
    "                if(dfVAERSSYMPTOMS.dtypes[name] == \"O\"):\n",
    "                    dfVAERSSYMPTOMS[name] = dfVAERSSYMPTOMS[name].str.replace(\",\", \"!!!\")\n",
    "\n",
    "            # Save out to file now \n",
    "            dfVAERSSYMPTOMS.to_csv(reworkedInputs + \"\\\\\" + filename,  index=False)\n",
    "\n",
    "        # Vax\n",
    "        elif(fullFilename.__contains__(stringVAERSVAX)):\n",
    "                \n",
    "            # Read in the file to this dataframe directly \n",
    "            dfVAERSVAX = pd.read_csv(fullFilename, encoding='cp1252')\n",
    "\n",
    "            # Pull out all the commas from the string columns \n",
    "            for name, value in dfVAERSVAX.iteritems():\n",
    "                if(dfVAERSVAX.dtypes[name] == \"O\"):\n",
    "                    dfVAERSVAX[name] = dfVAERSVAX[name].str.replace(\",\", \"!!!\")\n",
    "\n",
    "            # Save out to file now \n",
    "            dfVAERSVAX.to_csv(reworkedInputs + \"\\\\\" + filename,  index=False)"
   ]
  },
  {
   "cell_type": "code",
   "execution_count": 3,
   "metadata": {},
   "outputs": [
    {
     "name": "stderr",
     "output_type": "stream",
     "text": [
      "C:\\ProgramData\\Anaconda3\\lib\\site-packages\\IPython\\core\\interactiveshell.py:3444: DtypeWarning: Columns (7,11,22,26,29,30,31,32,33) have mixed types.Specify dtype option on import or set low_memory=False.\n",
      "  exec(code_obj, self.user_global_ns, self.user_ns)\n"
     ]
    }
   ],
   "source": [
    "# Break apart the big files - PROBABLY DO NOT NEED THIS ANYMORE NOW THAT WE ARE REMOVING THE SYMPTOM_TEXT COLUMN\n",
    "hugeFile = pd.read_csv(reworkedInputs + \"\\\\NonDomesticVAERSDATA.csv\")"
   ]
  },
  {
   "cell_type": "code",
   "execution_count": 4,
   "metadata": {},
   "outputs": [],
   "source": [
    "\n",
    "# Split the file \n",
    "hugeFileOne = hugeFile.iloc[ : int((hugeFile.shape[0] / 2)), : ]\n",
    "hugeFileTwo = hugeFile.iloc[ int(((hugeFile.shape[0] / 2) + 1)) : , : ]\n",
    "hugeFileOne.to_csv(reworkedInputs + \"\\\\NonDomesticVAERSDATA_FIRST_HALF.csv\",  index=False)\n",
    "hugeFileTwo.to_csv(reworkedInputs + \"\\\\NonDomesticVAERSDATA_SECOND_HALF.csv\",  index=False)"
   ]
  },
  {
   "cell_type": "code",
   "execution_count": 22,
   "metadata": {},
   "outputs": [
    {
     "name": "stderr",
     "output_type": "stream",
     "text": [
      "C:\\ProgramData\\Anaconda3\\lib\\site-packages\\IPython\\core\\interactiveshell.py:3444: DtypeWarning: Columns (7,12,15,23) have mixed types.Specify dtype option on import or set low_memory=False.\n",
      "  exec(code_obj, self.user_global_ns, self.user_ns)\n"
     ]
    }
   ],
   "source": [
    "# THIS IS DEVELOPMENT BELOW THIS CELL INCLUSIVE \n",
    "\n",
    "# Read in two files for 2021\n",
    "dfVAERSDATA = pd.read_csv(\"C:\\\\Users\\\\IanD\\\\Documents\\\\GitHub\\\\VAERS\\\\REWORKED_DATA\\\\2021VAERSDATA.csv\")\n",
    "dfVAERSVAX = pd.read_csv(\"C:\\\\Users\\\\IanD\\\\Documents\\\\GitHub\\\\VAERS\\\\REWORKED_DATA\\\\2021VAERSVAX.csv\")"
   ]
  },
  {
   "cell_type": "code",
   "execution_count": 23,
   "metadata": {},
   "outputs": [],
   "source": [
    "# Merge the vax with the symptoms tables have duplicates or can \n",
    "# have duplicates hence using full outer join. Merging vax and symptoms first.\n",
    "completeDataFrame = pd.merge(left = dfVAERSVAX, right = dfVAERSDATA, \\\n",
    "                      how = \"outer\", left_on = [\"VAERS_ID\"], \\\n",
    "                      right_on = [\"VAERS_ID\"])"
   ]
  },
  {
   "cell_type": "code",
   "execution_count": 24,
   "metadata": {},
   "outputs": [],
   "source": [
    "# Get all the values of the type of vaccine to try and find the covid \n",
    "covidFrame = completeDataFrame[completeDataFrame[\"VAX_TYPE\"] == \"COVID19\"]\n",
    "\n",
    "# Get all the deaths per manufacturer\n",
    "totalDeaths = (covidFrame[covidFrame[\"DIED\"] == \"Y\"].drop_duplicates(subset=[\"VAERS_ID\"]))"
   ]
  },
  {
   "cell_type": "code",
   "execution_count": 25,
   "metadata": {},
   "outputs": [
    {
     "name": "stdout",
     "output_type": "stream",
     "text": [
      "<class 'pandas.core.frame.DataFrame'>\n",
      "Int64Index: 9810 entries, 502 to 792434\n",
      "Data columns (total 42 columns):\n",
      " #   Column           Non-Null Count  Dtype  \n",
      "---  ------           --------------  -----  \n",
      " 0   VAERS_ID         9810 non-null   int64  \n",
      " 1   VAX_TYPE         9810 non-null   object \n",
      " 2   VAX_MANU         9810 non-null   object \n",
      " 3   VAX_LOT          7001 non-null   object \n",
      " 4   VAX_DOSE_SERIES  9788 non-null   object \n",
      " 5   VAX_ROUTE        6725 non-null   object \n",
      " 6   VAX_SITE         5667 non-null   object \n",
      " 7   VAX_NAME         9810 non-null   object \n",
      " 8   RECVDATE         9810 non-null   object \n",
      " 9   STATE            7715 non-null   object \n",
      " 10  AGE_YRS          8767 non-null   float64\n",
      " 11  CAGE_YR          8434 non-null   float64\n",
      " 12  CAGE_MO          12 non-null     float64\n",
      " 13  SEX              9810 non-null   object \n",
      " 14  RPT_DATE         19 non-null     object \n",
      " 15  SYMPTOM_TEXT     9806 non-null   object \n",
      " 16  DIED             9810 non-null   object \n",
      " 17  DATEDIED         8641 non-null   object \n",
      " 18  L_THREAT         390 non-null    object \n",
      " 19  ER_VISIT         1 non-null      object \n",
      " 20  HOSPITAL         3359 non-null   object \n",
      " 21  HOSPDAYS         2452 non-null   float64\n",
      " 22  X_STAY           16 non-null     object \n",
      " 23  DISABLE          98 non-null     object \n",
      " 24  RECOVD           8371 non-null   object \n",
      " 25  VAX_DATE         8778 non-null   object \n",
      " 26  ONSET_DATE       8842 non-null   object \n",
      " 27  NUMDAYS          8608 non-null   float64\n",
      " 28  LAB_DATA         3928 non-null   object \n",
      " 29  V_ADMINBY        9810 non-null   object \n",
      " 30  V_FUNDBY         20 non-null     object \n",
      " 31  OTHER_MEDS       4895 non-null   object \n",
      " 32  CUR_ILL          4195 non-null   object \n",
      " 33  HISTORY          6177 non-null   object \n",
      " 34  PRIOR_VAX        72 non-null     object \n",
      " 35  SPLTTYPE         1592 non-null   object \n",
      " 36  FORM_VERS        9810 non-null   int64  \n",
      " 37  TODAYS_DATE      9693 non-null   object \n",
      " 38  BIRTH_DEFECT     7 non-null      object \n",
      " 39  OFC_VISIT        761 non-null    object \n",
      " 40  ER_ED_VISIT      2305 non-null   object \n",
      " 41  ALLERGIES        4798 non-null   object \n",
      "dtypes: float64(5), int64(2), object(35)\n",
      "memory usage: 3.2+ MB\n"
     ]
    }
   ],
   "source": [
    "totalDeaths.info()"
   ]
  },
  {
   "cell_type": "code",
   "execution_count": 15,
   "metadata": {},
   "outputs": [
    {
     "name": "stdout",
     "output_type": "stream",
     "text": [
      "<class 'pandas.core.frame.DataFrame'>\n",
      "RangeIndex: 739949 entries, 0 to 739948\n",
      "Data columns (total 35 columns):\n",
      " #   Column        Non-Null Count   Dtype  \n",
      "---  ------        --------------   -----  \n",
      " 0   VAERS_ID      739949 non-null  int64  \n",
      " 1   RECVDATE      739949 non-null  object \n",
      " 2   STATE         644706 non-null  object \n",
      " 3   AGE_YRS       658823 non-null  float64\n",
      " 4   CAGE_YR       587261 non-null  float64\n",
      " 5   CAGE_MO       4109 non-null    float64\n",
      " 6   SEX           739949 non-null  object \n",
      " 7   RPT_DATE      514 non-null     object \n",
      " 8   SYMPTOM_TEXT  739638 non-null  object \n",
      " 9   DIED          9917 non-null    object \n",
      " 10  DATEDIED      8706 non-null    object \n",
      " 11  L_THREAT      11256 non-null   object \n",
      " 12  ER_VISIT      86 non-null      object \n",
      " 13  HOSPITAL      47057 non-null   object \n",
      " 14  HOSPDAYS      31242 non-null   float64\n",
      " 15  X_STAY        387 non-null     object \n",
      " 16  DISABLE       12188 non-null   object \n",
      " 17  RECOVD        668030 non-null  object \n",
      " 18  VAX_DATE      683706 non-null  object \n",
      " 19  ONSET_DATE    674254 non-null  object \n",
      " 20  NUMDAYS       645712 non-null  float64\n",
      " 21  LAB_DATA      283440 non-null  object \n",
      " 22  V_ADMINBY     739949 non-null  object \n",
      " 23  V_FUNDBY      579 non-null     object \n",
      " 24  OTHER_MEDS    417480 non-null  object \n",
      " 25  CUR_ILL       329885 non-null  object \n",
      " 26  HISTORY       444133 non-null  object \n",
      " 27  PRIOR_VAX     35997 non-null   object \n",
      " 28  SPLTTYPE      224422 non-null  object \n",
      " 29  FORM_VERS     739949 non-null  int64  \n",
      " 30  TODAYS_DATE   735131 non-null  object \n",
      " 31  BIRTH_DEFECT  451 non-null     object \n",
      " 32  OFC_VISIT     143207 non-null  object \n",
      " 33  ER_ED_VISIT   88853 non-null   object \n",
      " 34  ALLERGIES     367683 non-null  object \n",
      "dtypes: float64(5), int64(2), object(28)\n",
      "memory usage: 197.6+ MB\n"
     ]
    },
    {
     "data": {
      "text/plain": [
       "array([nan, 'Y'], dtype=object)"
      ]
     },
     "execution_count": 15,
     "metadata": {},
     "output_type": "execute_result"
    }
   ],
   "source": [
    "dfVAERSDATA.info()\n",
    "dfVAERSDATA[\"DIED\"].unique()"
   ]
  }
 ],
 "metadata": {
  "interpreter": {
   "hash": "53ef632448c9745d61eed54f6c694b352570b73d254c2ee47f35e6cc6c6d11b1"
  },
  "kernelspec": {
   "display_name": "Python 3.7.11 ('ErmasModeller_3.7')",
   "language": "python",
   "name": "python3"
  },
  "language_info": {
   "codemirror_mode": {
    "name": "ipython",
    "version": 3
   },
   "file_extension": ".py",
   "mimetype": "text/x-python",
   "name": "python",
   "nbconvert_exporter": "python",
   "pygments_lexer": "ipython3",
   "version": "3.8.12"
  },
  "orig_nbformat": 4
 },
 "nbformat": 4,
 "nbformat_minor": 2
}
