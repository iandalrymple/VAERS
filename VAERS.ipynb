{
 "cells": [
  {
   "cell_type": "code",
   "execution_count": 1,
   "source": [
    "# Imports \r\n",
    "import numpy as np\r\n",
    "import pandas as pd\r\n",
    "import pyodbc as db\r\n",
    "import matplotlib.pyplot as plt\r\n",
    "import os\r\n",
    "%matplotlib inline\r\n",
    "import requests\r\n",
    "from requests.auth import HTTPBasicAuth\r\n",
    "from io import StringIO\r\n",
    "from sodapy import Socrata\r\n",
    "from datetime import date\r\n",
    "import datetime\r\n",
    "import seaborn as sns\r\n",
    "\r\n",
    "# Constants \r\n",
    "stringVAERSDATA     = \"VAERSDATA\"\r\n",
    "stringVAERSSYMPTOMS = \"VAERSSYMPTOMS\"\r\n",
    "stringVAERSVAX      = \"VAERSVAX\"\r\n",
    "\r\n",
    "# API values \r\n",
    "# https://dev.socrata.com/foundry/data.cdc.gov/unsk-b7fc\r\n",
    "# https://data.cdc.gov/Vaccinations/COVID-19-Vaccinations-in-the-United-States-Jurisdi/unsk-b7fc\r\n",
    "# https://dev.socrata.com/foundry/data.cdc.gov/unsk-b7fc\r\n",
    "apiKeyName      = \"IAN_VAERS\"\r\n",
    "apiKeyId        = \"b4nhr0ojmr7cq4envv3a8ofc5\"\r\n",
    "apiSecretApi    = \"3ry6vfrzt53fl7p0kn8ir8hdnq70aeclapu5abnar08r8fbz5d\"\r\n",
    "apiToken        = \"jDHbO06h1r193Y7NHHlbNWVfW\"\r\n",
    "apiSecretToken  = \"9BZJSPTkndWKvJWBZp-mVIHK8X3yVrk9gBND\"\r\n",
    "\r\n",
    "# Column datatypes - need to finish @TODO - getting the following warning when reading in files:\r\n",
    "# DtypeWarning: Columns (11,13,15,16,27) have mixed types.Specify dtype option on import or set low_memory=False. interactivity=interactivity, compiler=compiler, result=result)\r\n",
    "dtype_VAERSDATA = {\"VAERS_ID\": np.int64, \"RECVDATE\": np.object, \"STATE\": np.str, \"AGE_YRS\": np.float64, \"CAGE_YR\": np.float64, \"CAGE_MO\": np.float64, \"SEX\": np.str, \"RPT_VDATE\": np.object, \"SYMPTOM_TEXT\": np.str, \"DIED\": np.str, \"DATEDIED\": np.object, \"L_THREAD\": np.str, \"ER_VISIT\": np.str}"
   ],
   "outputs": [],
   "metadata": {}
  },
  {
   "cell_type": "code",
   "execution_count": 3,
   "source": [
    "# Locals \r\n",
    "dfVAERSDATA_Initialized     = False\r\n",
    "dfVAERSSYMPTOMS_Initialized = False\r\n",
    "dfVAERSVAX_Initialized      = False\r\n",
    "directory = '.\\AllVAERSDataCSVS'\r\n",
    " \r\n",
    "# Iterate over files \r\n",
    "for filename in os.listdir(directory):\r\n",
    "\r\n",
    "    # Create the file name \r\n",
    "    fullFilename = os.path.join(directory, filename)\r\n",
    "\r\n",
    "    # Ensure its a file\r\n",
    "    if os.path.isfile(fullFilename):\r\n",
    "\r\n",
    "        # Print the file name to see where it breaks - if needed \r\n",
    "        # print(fullFilename)\r\n",
    "\r\n",
    "        # Overall\r\n",
    "        if(fullFilename.__contains__(stringVAERSDATA)):\r\n",
    "            \r\n",
    "            # Check if the dataframe has been initialized\r\n",
    "            if(dfVAERSDATA_Initialized == False):\r\n",
    "                \r\n",
    "                # Read in the file to this dataframe directly \r\n",
    "                dfVAERSDATA = pd.read_csv(fullFilename, encoding='cp1252', dtype=dtype_VAERSDATA)\r\n",
    "\r\n",
    "                # Set to init \r\n",
    "                dfVAERSDATA_Initialized = True\r\n",
    "\r\n",
    "            else:\r\n",
    "\r\n",
    "                # Add the new file to the dataframe that has been init'd\r\n",
    "                dfVAERSDATA = pd.concat([dfVAERSDATA, pd.read_csv(fullFilename, encoding='cp1252', dtype=dtype_VAERSDATA)], ignore_index=True)\r\n",
    "            \r\n",
    "        # Symptoms\r\n",
    "        elif(fullFilename.__contains__(stringVAERSSYMPTOMS)):\r\n",
    "            \r\n",
    "            # Check if the dataframe has been initialized\r\n",
    "            if(dfVAERSSYMPTOMS_Initialized == False):\r\n",
    "                \r\n",
    "                # Read in the file to this dataframe directly \r\n",
    "                dfVAERSSYMPTOMS = pd.read_csv(fullFilename, encoding='cp1252')\r\n",
    "\r\n",
    "                # Set to init \r\n",
    "                dfVAERSSYMPTOMS_Initialized = True\r\n",
    "\r\n",
    "            else:\r\n",
    "\r\n",
    "                # Add the new file to the dataframe that has been init'd\r\n",
    "                dfVAERSSYMPTOMS = pd.concat([dfVAERSSYMPTOMS, pd.read_csv(fullFilename, encoding='cp1252')], ignore_index=True)\r\n",
    "\r\n",
    "        # Vax\r\n",
    "        elif(fullFilename.__contains__(stringVAERSVAX)):\r\n",
    "            \r\n",
    "            # Check if the dataframe has been initialized\r\n",
    "            if(dfVAERSVAX_Initialized == False):\r\n",
    "                \r\n",
    "                # Read in the file to this dataframe directly \r\n",
    "                dfVAERSVAX = pd.read_csv(fullFilename, encoding='cp1252')\r\n",
    "\r\n",
    "                # Set to init \r\n",
    "                dfVAERSVAX_Initialized = True\r\n",
    "\r\n",
    "            else:\r\n",
    "\r\n",
    "                # Add the new file to the dataframe that has been init'd\r\n",
    "                dfVAERSVAX = pd.concat([dfVAERSVAX, pd.read_csv(fullFilename, encoding='cp1252')], ignore_index=True)\r\n",
    "        \r\n",
    "\r\n",
    "# Merge the vax with the symptoms tables have duplicates or can \r\n",
    "# have duplicates hence using full outer join. Merging vax and symptoms first.\r\n",
    "completeDataFrame = pd.merge(left = dfVAERSVAX, right = dfVAERSSYMPTOMS, \\\r\n",
    "                      how = \"outer\", left_on = [\"VAERS_ID\"], \\\r\n",
    "                      right_on = [\"VAERS_ID\"])\r\n",
    "\r\n",
    "# Now merge the data frame into the merged frame \r\n",
    "completeDataFrame = pd.merge(left = completeDataFrame, right = dfVAERSDATA, \\\r\n",
    "                      how = \"outer\", left_on = [\"VAERS_ID\"], \\\r\n",
    "                      right_on = [\"VAERS_ID\"])\r\n",
    "\r\n",
    "# Make a copy so we can leave the original untouched \r\n",
    "workingVaxFrame = completeDataFrame.copy(deep=True)\r\n",
    "\r\n",
    "# Print the frame out for fun - DO NOT DO THIS CAUSE THE FILE IS WAY TOO BIG \r\n",
    "# workingVaxFrame.to_csv(\"workingVaxFrame.csv\")\r\n",
    "\r\n",
    "# Performance notes:\r\n",
    "# Takes about 100 seconds on Dell Precision 752 with Intel(R) Core(TM) i7-6820HQ CPU @ 2.70GHz, 2701 Mhz, 4 Core(s), 8 Logical Processor(s)"
   ],
   "outputs": [
    {
     "output_type": "stream",
     "name": "stderr",
     "text": [
      "D:\\ProgramFiles\\Python\\Anaconda3\\lib\\site-packages\\IPython\\core\\interactiveshell.py:3063: DtypeWarning: Columns (7,15,23) have mixed types.Specify dtype option on import or set low_memory=False.\n",
      "  interactivity=interactivity, compiler=compiler, result=result)\n",
      "D:\\ProgramFiles\\Python\\Anaconda3\\lib\\site-packages\\IPython\\core\\interactiveshell.py:3063: DtypeWarning: Columns (7,23,30,31,32,33,34) have mixed types.Specify dtype option on import or set low_memory=False.\n",
      "  interactivity=interactivity, compiler=compiler, result=result)\n"
     ]
    }
   ],
   "metadata": {}
  },
  {
   "cell_type": "code",
   "execution_count": 24,
   "source": [
    "# Taken directly from \r\n",
    "# https://dev.socrata.com/foundry/data.cdc.gov/unsk-b7fc\r\n",
    "\r\n",
    "# Unauthenticated client only works with public data sets. Note 'None'\r\n",
    "# in place of application token, and no username or password:\r\n",
    "client = Socrata(\"data.cdc.gov\", None)\r\n",
    "\r\n",
    "# Example authenticated client (needed for non-public datasets):\r\n",
    "# client = Socrata(data.cdc.gov,\r\n",
    "#                  MyAppToken,\r\n",
    "#                  userame=\"user@example.com\",\r\n",
    "#                  password=\"AFakePassword\")\r\n",
    "\r\n",
    "# First 50000 results, returned as JSON from API / converted to Python list of dictionaries by sodapy.\r\n",
    "getResults = client.get(\"unsk-b7fc\", limit=50000)\r\n",
    "\r\n",
    "# Convert to pandas DataFrame\r\n",
    "administrationDataFrame = pd.DataFrame.from_records(getResults)\r\n",
    "\r\n",
    "# Convert to date time \r\n",
    "administrationDataFrame[\"date\"] = pd.to_datetime(administrationDataFrame[\"date\"]).dt.date\r\n",
    "\r\n",
    "# Print to file \r\n",
    "administrationDataFrame.to_csv(\"administrationDataFrame.csv\")\r\n",
    "\r\n",
    "# Alternative method - may be useful later \r\n",
    "# rawResponse = requests.get('https://data.cdc.gov/resource/unsk-b7fc.csv', auth=HTTPBasicAuth(apiKeyId, apiSecretApi))\r\n",
    "# stringResponse = StringIO(rawResponse.text)\r\n",
    "# vaxAdministeredDataFrame = pd.read_csv(stringResponse, sep =\",\")\r\n",
    "# vaxAdministeredDataFrame.to_csv(\"vaxAdministeredDataFrame.csv\")\r\n",
    "\r\n",
    "# Make a copy so we can leave the original untouched \r\n",
    "workingAdministrationDataFrame = administrationDataFrame.copy(deep=True)\r\n",
    "\r\n",
    "# Only return the latest date \r\n",
    "todaysAdministered = workingAdministrationDataFrame[workingAdministrationDataFrame.date == workingAdministrationDataFrame.date.max()]\r\n",
    "\r\n",
    "# Check data is present \r\n",
    "todaysAdministered.shape"
   ],
   "outputs": [
    {
     "output_type": "stream",
     "name": "stderr",
     "text": [
      "WARNING:root:Requests made without an app_token will be subject to strict throttling limits.\n"
     ]
    },
    {
     "output_type": "execute_result",
     "data": {
      "text/plain": [
       "(65, 81)"
      ]
     },
     "metadata": {},
     "execution_count": 24
    }
   ],
   "metadata": {}
  },
  {
   "cell_type": "code",
   "execution_count": 66,
   "source": [
    "# Get all the values of the type of vaccine to try and find the covid \r\n",
    "covidFrame = workingVaxFrame[workingVaxFrame[\"VAX_TYPE\"] == \"COVID19\"]\r\n",
    "\r\n",
    "# Get all the deaths per manufacturer\r\n",
    "covidDeathsFramePerMfg = (covidFrame[covidFrame[\"DIED\"] == \"Y\"].drop_duplicates(subset=[\"VAERS_ID\"]))[\"VAX_MANU\"].value_counts().to_frame()\r\n",
    "\r\n",
    "# Convert to a float \r\n",
    "covidDeathsFramePerMfg[\"VAX_MANU\"] = covidDeathsFramePerMfg[\"VAX_MANU\"].astype(\"float\")\r\n",
    "\r\n",
    "# INDEX\t                    VAX_MANU\r\n",
    "# PFIZER\\BIONTECH\t        10319\r\n",
    "# MODERNA\t                3763\r\n",
    "# JANSSEN\t                1021\r\n",
    "# UNKNOWN MANUFACTURER\t    41\r\n",
    "\r\n",
    "# Show graphs of deaths per million for each mfg \r\n",
    "covidDeathsFramePerMfg[\"VAX_MANU\"].plot(kind = \"bar\", title = \"Death Count vs. Manufacturer\")\r\n"
   ],
   "outputs": [
    {
     "output_type": "execute_result",
     "data": {
      "text/plain": [
       "<matplotlib.axes._subplots.AxesSubplot at 0x1bf86d7a508>"
      ]
     },
     "metadata": {},
     "execution_count": 66
    },
    {
     "output_type": "display_data",
     "data": {
      "image/png": "[encoded data removed]",
      "text/plain": [
       "<Figure size 432x288 with 1 Axes>"
      ]
     },
     "metadata": {
      "needs_background": "light"
     }
    }
   ],
   "metadata": {}
  },
  {
   "cell_type": "code",
   "execution_count": 67,
   "source": [
    "# Get todays date for us only \r\n",
    "usAdministered = todaysAdministered[todaysAdministered.location == \"US\"]\r\n",
    "\r\n",
    "# Make a copy of the deaths frame \r\n",
    "localCovidDeathsFramePerMfg = covidDeathsFramePerMfg.copy(deep = True)\r\n",
    "\r\n",
    "# Percent deaths \r\n",
    "localCovidDeathsFramePerMfg.loc[\"PFIZER\\BIONTECH\"].VAX_MANU          = (float)((float)(localCovidDeathsFramePerMfg.loc[\"PFIZER\\BIONTECH\"].VAX_MANU) / (float)(usAdministered[\"administered_pfizer\"])) * 1000000.0\r\n",
    "localCovidDeathsFramePerMfg.loc[\"MODERNA\"].VAX_MANU                  = (float)((float)(localCovidDeathsFramePerMfg.loc[\"MODERNA\"].VAX_MANU) / (float)(usAdministered[\"administered_moderna\"])) * 1000000.0\r\n",
    "localCovidDeathsFramePerMfg.loc[\"JANSSEN\"].VAX_MANU                  = (float)((float)(localCovidDeathsFramePerMfg.loc[\"JANSSEN\"].VAX_MANU) / (float)(usAdministered[\"administered_janssen\"])) * 1000000.0\r\n",
    "localCovidDeathsFramePerMfg.loc[\"UNKNOWN MANUFACTURER\"].VAX_MANU     = (float)((float)(localCovidDeathsFramePerMfg.loc[\"UNKNOWN MANUFACTURER\"].VAX_MANU) / (float)(usAdministered[\"administered_unk_manuf\"])) * 1000000.0\r\n",
    "\r\n",
    "# Show graphs of deaths per million for each mfg \r\n",
    "localCovidDeathsFramePerMfg[\"VAX_MANU\"].plot(kind = \"bar\", title = \"Deaths per Million vs. Manufacturer\")"
   ],
   "outputs": [
    {
     "output_type": "execute_result",
     "data": {
      "text/plain": [
       "<matplotlib.axes._subplots.AxesSubplot at 0x1bf904d1208>"
      ]
     },
     "metadata": {},
     "execution_count": 67
    },
    {
     "output_type": "display_data",
     "data": {
      "image/png": "[encoded data removed]",
      "text/plain": [
       "<Figure size 432x288 with 1 Axes>"
      ]
     },
     "metadata": {
      "needs_background": "light"
     }
    }
   ],
   "metadata": {}
  },
  {
   "cell_type": "markdown",
   "source": [
    "BELOW THIS LINE IS ALL DEVELOPMENTAL "
   ],
   "metadata": {}
  },
  {
   "cell_type": "code",
   "execution_count": 5,
   "source": [
    "# Get all the deaths \r\n",
    "covidDeathsFrame = covidFrame[covidFrame[\"DIED\"] == \"Y\"]\r\n",
    "\r\n",
    "# Drop the duplicates which result for multiple vax at same time\r\n",
    "covidDeathsFrameNoDupes = covidDeathsFrame.drop_duplicates(subset=[\"VAERS_ID\"])\r\n",
    "\r\n",
    "# Print the data to file \r\n",
    "covidDeathsFrameNoDupes.to_csv(\"covidDeathsFrameNoDupes.csv\")\r\n",
    "\r\n",
    "# Show the bar graph of deaths by manufacturer\r\n",
    "covidDeathsFrameNoDupes[\"VAX_MANU\"].value_counts().plot(kind = \"bar\", title = \"Deaths vs. Manufacturer\")"
   ],
   "outputs": [
    {
     "output_type": "execute_result",
     "data": {
      "text/plain": [
       "<matplotlib.axes._subplots.AxesSubplot at 0x1bf6c526f08>"
      ]
     },
     "metadata": {},
     "execution_count": 5
    },
    {
     "output_type": "display_data",
     "data": {
      "image/png": "[encoded data removed]",
      "text/plain": [
       "<Figure size 432x288 with 1 Axes>"
      ]
     },
     "metadata": {
      "needs_background": "light"
     }
    }
   ],
   "metadata": {}
  },
  {
   "cell_type": "code",
   "execution_count": 21,
   "source": [
    "# Drop the duplicates which result for multiple vax at same time\r\n",
    "covidFrameNoDupes = covidFrame.drop_duplicates(subset=[\"VAERS_ID\"])\r\n",
    "\r\n",
    "# Plot all the reactions by manufacturer\r\n",
    "covidFrameNoDupes[\"VAX_MANU\"].value_counts().plot(kind = \"bar\", title = \"Adverse vs. Manufacturer\")"
   ],
   "outputs": [
    {
     "output_type": "execute_result",
     "data": {
      "text/plain": [
       "<matplotlib.axes._subplots.AxesSubplot at 0x26bc1041248>"
      ]
     },
     "metadata": {},
     "execution_count": 21
    },
    {
     "output_type": "display_data",
     "data": {
      "image/png": "[encoded data removed]",
      "text/plain": [
       "<Figure size 432x288 with 1 Axes>"
      ]
     },
     "metadata": {
      "needs_background": "light"
     }
    }
   ],
   "metadata": {}
  },
  {
   "cell_type": "code",
   "execution_count": 136,
   "source": [
    "# Administered_Janssen\tAdministered_Moderna\tAdministered_Pfizer\tAdministered_Unk_Manuf\r\n",
    "\r\n",
    "# Only return todays date \r\n",
    "todaysDataOnly = workingAdministrationDataFrame[workingAdministrationDataFrame.date == date.today()]\r\n",
    "todaysDataOnly = todaysDataOnly[todaysDataOnly.location != \"US\"]\r\n",
    "\r\n",
    "\r\n",
    "sns.catplot(x = \"location\",       # x variable name\r\n",
    "            y = \"administered_janssen\",       # y variable name\r\n",
    "            data = todaysDataOnly,     # dataframe to plot\r\n",
    "            kind = \"bar\")\r\n",
    "\r\n",
    "\r\n",
    "\r\n",
    "# todaysDataOnly[\"administered_janssen\"]\r\n",
    "# todaysDataOnly[\"administered_janssen\"].plot(kind = \"bar\", index= title = \"Adverse vs. Manufacturer\")"
   ],
   "outputs": [
    {
     "output_type": "execute_result",
     "data": {
      "text/plain": [
       "<seaborn.axisgrid.FacetGrid at 0x24b02582b48>"
      ]
     },
     "metadata": {},
     "execution_count": 136
    },
    {
     "output_type": "display_data",
     "data": {
      "image/png": "[encoded data removed]",
      "text/plain": [
       "<Figure size 360x360 with 1 Axes>"
      ]
     },
     "metadata": {
      "needs_background": "light"
     }
    }
   ],
   "metadata": {}
  }
 ],
 "metadata": {
  "kernelspec": {
   "name": "python3",
   "display_name": "Python 3.7.6 64-bit ('base': conda)"
  },
  "language_info": {
   "codemirror_mode": {
    "name": "ipython",
    "version": 3
   },
   "file_extension": ".py",
   "mimetype": "text/x-python",
   "name": "python",
   "nbconvert_exporter": "python",
   "pygments_lexer": "ipython3",
   "version": "3.7.6"
  },
  "interpreter": {
   "hash": "f2c8a1743301a7cb30ab93c7645f660a12583e7420143828028bb939169b181f"
  }
 },
 "nbformat": 4,
 "nbformat_minor": 4
}