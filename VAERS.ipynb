{
 "cells": [
  {
   "cell_type": "code",
   "execution_count": 1,
   "metadata": {},
   "outputs": [],
   "source": [
    "# Imports \n",
    "import numpy as np\n",
    "import pandas as pd\n",
    "import pyodbc as db\n",
    "import matplotlib.pyplot as plt\n",
    "import os\n",
    "%matplotlib inline\n",
    "import requests\n",
    "from requests.auth import HTTPBasicAuth\n",
    "from io import StringIO\n",
    "from sodapy import Socrata\n",
    "from datetime import date\n",
    "import datetime\n",
    "import seaborn as sns\n",
    "\n",
    "# Constants \n",
    "stringVAERSDATA     = \"VAERSDATA\"\n",
    "stringVAERSSYMPTOMS = \"VAERSSYMPTOMS\"\n",
    "stringVAERSVAX      = \"VAERSVAX\"\n",
    "\n",
    "# API values \n",
    "# https://dev.socrata.com/foundry/data.cdc.gov/unsk-b7fc\n",
    "# https://data.cdc.gov/Vaccinations/COVID-19-Vaccinations-in-the-United-States-Jurisdi/unsk-b7fc\n",
    "# https://dev.socrata.com/foundry/data.cdc.gov/unsk-b7fc\n",
    "apiKeyName      = \"IAN_VAERS\"\n",
    "apiKeyId        = \"b4nhr0ojmr7cq4envv3a8ofc5\"\n",
    "apiSecretApi    = \"3ry6vfrzt53fl7p0kn8ir8hdnq70aeclapu5abnar08r8fbz5d\"\n",
    "apiToken        = \"jDHbO06h1r193Y7NHHlbNWVfW\"\n",
    "apiSecretToken  = \"9BZJSPTkndWKvJWBZp-mVIHK8X3yVrk9gBND\"\n",
    "\n",
    "# Column datatypes - need to finish @TODO - getting the following warning when reading in files:\n",
    "# DtypeWarning: Columns (11,13,15,16,27) have mixed types.Specify dtype option on import or set low_memory=False. interactivity=interactivity, compiler=compiler, result=result)\n",
    "dtype_VAERSDATA = {\"VAERS_ID\": np.int64, \"RECVDATE\": np.object, \"STATE\": np.str, \"AGE_YRS\": np.float64, \"CAGE_YR\": np.float64, \"CAGE_MO\": np.float64, \"SEX\": np.str, \"RPT_VDATE\": np.object, \"SYMPTOM_TEXT\": np.str, \"DIED\": np.str, \"DATEDIED\": np.object, \"L_THREAD\": np.str, \"ER_VISIT\": np.str}"
   ]
  },
  {
   "cell_type": "code",
   "execution_count": 43,
   "metadata": {},
   "outputs": [],
   "source": [
    "# Return age bucket for age passed in \n",
    "def ageRangeFromAge(inAge):\n",
    "\n",
    "    # Check ranges \n",
    "    if(inAge >= 100):\n",
    "        return \"GTE_100\"\n",
    "    elif(inAge >= 90):\n",
    "        return \"90_99\"\n",
    "    elif(inAge >= 80):\n",
    "        return \"80_89\"\n",
    "    elif(inAge >= 70):\n",
    "        return \"70_79\"\n",
    "    elif(inAge >= 60):\n",
    "        return \"60_69\"\n",
    "    elif(inAge >= 50):\n",
    "        return \"50_59\"\n",
    "    elif(inAge >= 40):\n",
    "        return \"40_49\"\n",
    "    elif(inAge >= 30):\n",
    "        return \"30_39\"\n",
    "    elif(inAge >= 20):\n",
    "        return \"20_29\"\n",
    "    elif(inAge >= 10):\n",
    "        return \"10_19\"\n",
    "    elif(inAge >= 0):\n",
    "        return \"0_9\"\n",
    "    else:\n",
    "        return \"UNKNOWN\""
   ]
  },
  {
   "cell_type": "code",
   "execution_count": 3,
   "metadata": {},
   "outputs": [
    {
     "name": "stderr",
     "output_type": "stream",
     "text": [
      "D:\\ProgramFiles\\Python\\Anaconda3\\lib\\site-packages\\IPython\\core\\interactiveshell.py:3063: DtypeWarning: Columns (11,13,15,16,27) have mixed types.Specify dtype option on import or set low_memory=False.\n",
      "  interactivity=interactivity, compiler=compiler, result=result)\n",
      "D:\\ProgramFiles\\Python\\Anaconda3\\lib\\site-packages\\IPython\\core\\interactiveshell.py:3063: DtypeWarning: Columns (31) have mixed types.Specify dtype option on import or set low_memory=False.\n",
      "  interactivity=interactivity, compiler=compiler, result=result)\n",
      "D:\\ProgramFiles\\Python\\Anaconda3\\lib\\site-packages\\IPython\\core\\interactiveshell.py:3063: DtypeWarning: Columns (7,15,23,31) have mixed types.Specify dtype option on import or set low_memory=False.\n",
      "  interactivity=interactivity, compiler=compiler, result=result)\n",
      "D:\\ProgramFiles\\Python\\Anaconda3\\lib\\site-packages\\IPython\\core\\interactiveshell.py:3063: DtypeWarning: Columns (7,15,23) have mixed types.Specify dtype option on import or set low_memory=False.\n",
      "  interactivity=interactivity, compiler=compiler, result=result)\n",
      "D:\\ProgramFiles\\Python\\Anaconda3\\lib\\site-packages\\IPython\\core\\interactiveshell.py:3063: DtypeWarning: Columns (7,23,30,31,32,33,34) have mixed types.Specify dtype option on import or set low_memory=False.\n",
      "  interactivity=interactivity, compiler=compiler, result=result)\n"
     ]
    }
   ],
   "source": [
    "# Locals \n",
    "dfVAERSDATA_Initialized     = False\n",
    "dfVAERSSYMPTOMS_Initialized = False\n",
    "dfVAERSVAX_Initialized      = False\n",
    "directory = '.\\AllVAERSDataCSVS'\n",
    " \n",
    "# Iterate over files \n",
    "for filename in os.listdir(directory):\n",
    "\n",
    "    # Create the file name \n",
    "    fullFilename = os.path.join(directory, filename)\n",
    "\n",
    "    # Ensure its a file\n",
    "    if os.path.isfile(fullFilename):\n",
    "\n",
    "        # Print the file name to see where it breaks - if needed \n",
    "        # print(fullFilename)\n",
    "\n",
    "        # Overall\n",
    "        if(fullFilename.__contains__(stringVAERSDATA)):\n",
    "            \n",
    "            # Check if the dataframe has been initialized\n",
    "            if(dfVAERSDATA_Initialized == False):\n",
    "                \n",
    "                # Read in the file to this dataframe directly \n",
    "                dfVAERSDATA = pd.read_csv(fullFilename, encoding='cp1252', dtype=dtype_VAERSDATA)\n",
    "\n",
    "                # Set to init \n",
    "                dfVAERSDATA_Initialized = True\n",
    "\n",
    "            else:\n",
    "\n",
    "                # Add the new file to the dataframe that has been init'd\n",
    "                dfVAERSDATA = pd.concat([dfVAERSDATA, pd.read_csv(fullFilename, encoding='cp1252', dtype=dtype_VAERSDATA)], ignore_index=True)\n",
    "            \n",
    "        # Symptoms\n",
    "        elif(fullFilename.__contains__(stringVAERSSYMPTOMS)):\n",
    "            \n",
    "            # Check if the dataframe has been initialized\n",
    "            if(dfVAERSSYMPTOMS_Initialized == False):\n",
    "                \n",
    "                # Read in the file to this dataframe directly \n",
    "                dfVAERSSYMPTOMS = pd.read_csv(fullFilename, encoding='cp1252')\n",
    "\n",
    "                # Set to init \n",
    "                dfVAERSSYMPTOMS_Initialized = True\n",
    "\n",
    "            else:\n",
    "\n",
    "                # Add the new file to the dataframe that has been init'd\n",
    "                dfVAERSSYMPTOMS = pd.concat([dfVAERSSYMPTOMS, pd.read_csv(fullFilename, encoding='cp1252')], ignore_index=True)\n",
    "\n",
    "        # Vax\n",
    "        elif(fullFilename.__contains__(stringVAERSVAX)):\n",
    "            \n",
    "            # Check if the dataframe has been initialized\n",
    "            if(dfVAERSVAX_Initialized == False):\n",
    "                \n",
    "                # Read in the file to this dataframe directly \n",
    "                dfVAERSVAX = pd.read_csv(fullFilename, encoding='cp1252')\n",
    "\n",
    "                # Set to init \n",
    "                dfVAERSVAX_Initialized = True\n",
    "\n",
    "            else:\n",
    "\n",
    "                # Add the new file to the dataframe that has been init'd\n",
    "                dfVAERSVAX = pd.concat([dfVAERSVAX, pd.read_csv(fullFilename, encoding='cp1252')], ignore_index=True)\n",
    "        \n",
    "\n",
    "# Merge the vax with the symptoms tables have duplicates or can \n",
    "# have duplicates hence using full outer join. Merging vax and symptoms first.\n",
    "completeDataFrame = pd.merge(left = dfVAERSVAX, right = dfVAERSSYMPTOMS, \\\n",
    "                      how = \"outer\", left_on = [\"VAERS_ID\"], \\\n",
    "                      right_on = [\"VAERS_ID\"])\n",
    "\n",
    "# Now merge the data frame into the merged frame \n",
    "completeDataFrame = pd.merge(left = completeDataFrame, right = dfVAERSDATA, \\\n",
    "                      how = \"outer\", left_on = [\"VAERS_ID\"], \\\n",
    "                      right_on = [\"VAERS_ID\"])\n",
    "\n",
    "# Performance notes:\n",
    "# Takes about 100 seconds on Dell Precision 752 with Intel(R) Core(TM) i7-6820HQ CPU @ 2.70GHz, 2701 Mhz, 4 Core(s), 8 Logical Processor(s)"
   ]
  },
  {
   "cell_type": "code",
   "execution_count": 44,
   "metadata": {},
   "outputs": [],
   "source": [
    "# Fill in the unknowns with negatives for age \n",
    "completeDataFrame[\"AGE_YRS\"] = completeDataFrame[\"AGE_YRS\"].fillna(-1)\n",
    "\n",
    "# Add a feature for age range \n",
    "completeDataFrame[\"AGE_RANGE\"] = completeDataFrame[\"AGE_YRS\"].apply(ageRangeFromAge)\n",
    "\n",
    "# Make a copy so we can leave the original untouched \n",
    "workingVaxFrame = completeDataFrame.copy(deep=True)\n",
    "\n",
    "# Print the frame out for fun - DO NOT DO THIS CAUSE THE FILE IS WAY TOO BIG \n",
    "# workingVaxFrame.to_csv(\"workingVaxFrame.csv\")"
   ]
  },
  {
   "cell_type": "code",
   "execution_count": 14,
   "metadata": {},
   "outputs": [
    {
     "name": "stderr",
     "output_type": "stream",
     "text": [
      "WARNING:root:Requests made without an app_token will be subject to strict throttling limits.\n"
     ]
    },
    {
     "data": {
      "text/plain": [
       "(64, 69)"
      ]
     },
     "execution_count": 14,
     "metadata": {},
     "output_type": "execute_result"
    }
   ],
   "source": [
    "# Taken directly from \n",
    "# https://dev.socrata.com/foundry/data.cdc.gov/unsk-b7fc\n",
    "\n",
    "# Unauthenticated client only works with public data sets. Note 'None'\n",
    "# in place of application token, and no username or password:\n",
    "client = Socrata(\"data.cdc.gov\", None)\n",
    "\n",
    "# Example authenticated client (needed for non-public datasets):\n",
    "# client = Socrata(data.cdc.gov,\n",
    "#                  MyAppToken,\n",
    "#                  userame=\"user@example.com\",\n",
    "#                  password=\"AFakePassword\")\n",
    "\n",
    "# First 50000 results, returned as JSON from API / converted to Python list of dictionaries by sodapy.\n",
    "getResults = client.get(\"unsk-b7fc\", limit=50000)\n",
    "\n",
    "# Convert to pandas DataFrame\n",
    "administrationDataFrame = pd.DataFrame.from_records(getResults)\n",
    "\n",
    "# Convert to date time \n",
    "administrationDataFrame[\"date\"] = pd.to_datetime(administrationDataFrame[\"date\"]).dt.date\n",
    "\n",
    "# Print to file \n",
    "administrationDataFrame.to_csv(\"administrationDataFrame.csv\")\n",
    "\n",
    "# Alternative method - may be useful later \n",
    "# rawResponse = requests.get('https://data.cdc.gov/resource/unsk-b7fc.csv', auth=HTTPBasicAuth(apiKeyId, apiSecretApi))\n",
    "# stringResponse = StringIO(rawResponse.text)\n",
    "# vaxAdministeredDataFrame = pd.read_csv(stringResponse, sep =\",\")\n",
    "# vaxAdministeredDataFrame.to_csv(\"vaxAdministeredDataFrame.csv\")\n",
    "\n",
    "# Make a copy so we can leave the original untouched \n",
    "workingAdministrationDataFrame = administrationDataFrame.copy(deep=True)\n",
    "\n",
    "# Only return the latest date \n",
    "todaysAdministered = workingAdministrationDataFrame[workingAdministrationDataFrame.date == workingAdministrationDataFrame.date.max()]\n",
    "\n",
    "# Check data is present \n",
    "todaysAdministered.shape"
   ]
  },
  {
   "cell_type": "code",
   "execution_count": 45,
   "metadata": {},
   "outputs": [
    {
     "data": {
      "text/plain": [
       "<matplotlib.axes._subplots.AxesSubplot at 0x27faa84ce48>"
      ]
     },
     "execution_count": 45,
     "metadata": {},
     "output_type": "execute_result"
    },
    {
     "data": {
      "image/png": "[encoded data removed]",
      "text/plain": [
       "<Figure size 432x288 with 1 Axes>"
      ]
     },
     "metadata": {
      "needs_background": "light"
     },
     "output_type": "display_data"
    }
   ],
   "source": [
    "# Get all the values of the type of vaccine to try and find the covid \n",
    "covidFrame = workingVaxFrame[workingVaxFrame[\"VAX_TYPE\"] == \"COVID19\"]\n",
    "\n",
    "# Get all the deaths per manufacturer\n",
    "covidDeathsFramePerMfg = (covidFrame[covidFrame[\"DIED\"] == \"Y\"].drop_duplicates(subset=[\"VAERS_ID\"]))[\"VAX_MANU\"].value_counts().to_frame()\n",
    "\n",
    "# Convert to a float \n",
    "covidDeathsFramePerMfg[\"VAX_MANU\"] = covidDeathsFramePerMfg[\"VAX_MANU\"].astype(\"float\")\n",
    "\n",
    "# INDEX\t                    VAX_MANU\n",
    "# PFIZER\\BIONTECH\t        10319\n",
    "# MODERNA\t                3763\n",
    "# JANSSEN\t                1021\n",
    "# UNKNOWN MANUFACTURER\t    41\n",
    "\n",
    "# Show graphs of deaths per million for each mfg \n",
    "covidDeathsFramePerMfg[\"VAX_MANU\"].plot(kind = \"bar\", title = \"Total Death Count vs. Manufacturer\")"
   ]
  },
  {
   "cell_type": "code",
   "execution_count": 46,
   "metadata": {},
   "outputs": [
    {
     "data": {
      "text/plain": [
       "<matplotlib.axes._subplots.AxesSubplot at 0x27fa906dc88>"
      ]
     },
     "execution_count": 46,
     "metadata": {},
     "output_type": "execute_result"
    },
    {
     "data": {
      "image/png": "[encoded data removed]",
      "text/plain": [
       "<Figure size 432x288 with 1 Axes>"
      ]
     },
     "metadata": {
      "needs_background": "light"
     },
     "output_type": "display_data"
    }
   ],
   "source": [
    "# Get todays date for us only \n",
    "usAdministered = todaysAdministered[todaysAdministered.location == \"US\"]\n",
    "\n",
    "# Make a copy of the deaths frame \n",
    "localCovidDeathsFramePerMfg = covidDeathsFramePerMfg.copy(deep = True)\n",
    "\n",
    "# Percent deaths \n",
    "localCovidDeathsFramePerMfg.loc[\"PFIZER\\BIONTECH\"].VAX_MANU          = (float)((float)(localCovidDeathsFramePerMfg.loc[\"PFIZER\\BIONTECH\"].VAX_MANU) / (float)(usAdministered[\"administered_pfizer\"])) * 1000000.0\n",
    "localCovidDeathsFramePerMfg.loc[\"MODERNA\"].VAX_MANU                  = (float)((float)(localCovidDeathsFramePerMfg.loc[\"MODERNA\"].VAX_MANU) / (float)(usAdministered[\"administered_moderna\"])) * 1000000.0\n",
    "localCovidDeathsFramePerMfg.loc[\"JANSSEN\"].VAX_MANU                  = (float)((float)(localCovidDeathsFramePerMfg.loc[\"JANSSEN\"].VAX_MANU) / (float)(usAdministered[\"administered_janssen\"])) * 1000000.0\n",
    "localCovidDeathsFramePerMfg.loc[\"UNKNOWN MANUFACTURER\"].VAX_MANU     = (float)((float)(localCovidDeathsFramePerMfg.loc[\"UNKNOWN MANUFACTURER\"].VAX_MANU) / (float)(usAdministered[\"administered_unk_manuf\"])) * 1000000.0\n",
    "\n",
    "# Show graphs of deaths per million for each mfg \n",
    "localCovidDeathsFramePerMfg[\"VAX_MANU\"].plot(kind = \"bar\", title = \"Deaths per Million vs. Manufacturer\")"
   ]
  },
  {
   "cell_type": "code",
   "execution_count": 47,
   "metadata": {},
   "outputs": [
    {
     "data": {
      "text/plain": [
       "<matplotlib.axes._subplots.AxesSubplot at 0x27faa8d71c8>"
      ]
     },
     "execution_count": 47,
     "metadata": {},
     "output_type": "execute_result"
    },
    {
     "data": {
      "image/png": "[encoded data removed]",
      "text/plain": [
       "<Figure size 432x288 with 1 Axes>"
      ]
     },
     "metadata": {
      "needs_background": "light"
     },
     "output_type": "display_data"
    }
   ],
   "source": [
    "# Get all the events per manufacturer\n",
    "covidEventsFramePerMfg = (covidFrame.drop_duplicates(subset=[\"VAERS_ID\"]))[\"VAX_MANU\"].value_counts().to_frame()\n",
    "\n",
    "# Convert to a float \n",
    "covidEventsFramePerMfg[\"VAX_MANU\"] = covidEventsFramePerMfg[\"VAX_MANU\"].astype(\"float\")\n",
    "\n",
    "# INDEX\t                    VAX_MANU\n",
    "# PFIZER\\BIONTECH\t        10319\n",
    "# MODERNA\t                3763\n",
    "# JANSSEN\t                1021\n",
    "# UNKNOWN MANUFACTURER\t    41\n",
    "\n",
    "# Show graphs of deaths per million for each mfg \n",
    "covidEventsFramePerMfg[\"VAX_MANU\"].plot(kind = \"bar\", title = \"Total Event Count vs. Manufacturer\")"
   ]
  },
  {
   "cell_type": "code",
   "execution_count": 48,
   "metadata": {},
   "outputs": [
    {
     "data": {
      "text/plain": [
       "<matplotlib.axes._subplots.AxesSubplot at 0x28020312508>"
      ]
     },
     "execution_count": 48,
     "metadata": {},
     "output_type": "execute_result"
    },
    {
     "data": {
      "image/png": "[encoded data removed]",
      "text/plain": [
       "<Figure size 432x288 with 1 Axes>"
      ]
     },
     "metadata": {
      "needs_background": "light"
     },
     "output_type": "display_data"
    }
   ],
   "source": [
    "# Make a copy of the deaths frame \n",
    "localCovidEventsFramePerMfg = covidEventsFramePerMfg.copy(deep = True)\n",
    "\n",
    "# Percent deaths \n",
    "localCovidEventsFramePerMfg.loc[\"PFIZER\\BIONTECH\"].VAX_MANU          = (float)((float)(localCovidEventsFramePerMfg.loc[\"PFIZER\\BIONTECH\"].VAX_MANU) / (float)(usAdministered[\"administered_pfizer\"])) * 1000000.0\n",
    "localCovidEventsFramePerMfg.loc[\"MODERNA\"].VAX_MANU                  = (float)((float)(localCovidEventsFramePerMfg.loc[\"MODERNA\"].VAX_MANU) / (float)(usAdministered[\"administered_moderna\"])) * 1000000.0\n",
    "localCovidEventsFramePerMfg.loc[\"JANSSEN\"].VAX_MANU                  = (float)((float)(localCovidEventsFramePerMfg.loc[\"JANSSEN\"].VAX_MANU) / (float)(usAdministered[\"administered_janssen\"])) * 1000000.0\n",
    "localCovidEventsFramePerMfg.loc[\"UNKNOWN MANUFACTURER\"].VAX_MANU     = (float)((float)(localCovidEventsFramePerMfg.loc[\"UNKNOWN MANUFACTURER\"].VAX_MANU) / (float)(usAdministered[\"administered_unk_manuf\"])) * 1000000.0\n",
    "\n",
    "# Show graphs of deaths per million for each mfg \n",
    "localCovidEventsFramePerMfg[\"VAX_MANU\"].plot(kind = \"bar\", title = \"Events per Million vs. Manufacturer\")"
   ]
  },
  {
   "cell_type": "code",
   "execution_count": 56,
   "metadata": {},
   "outputs": [
    {
     "data": {
      "text/html": [
       "<div>\n",
       "<style scoped>\n",
       "    .dataframe tbody tr th:only-of-type {\n",
       "        vertical-align: middle;\n",
       "    }\n",
       "\n",
       "    .dataframe tbody tr th {\n",
       "        vertical-align: top;\n",
       "    }\n",
       "\n",
       "    .dataframe thead th {\n",
       "        text-align: right;\n",
       "    }\n",
       "</style>\n",
       "<table border=\"1\" class=\"dataframe\">\n",
       "  <thead>\n",
       "    <tr style=\"text-align: right;\">\n",
       "      <th></th>\n",
       "      <th>VAX_MANU</th>\n",
       "      <th>AGE_RANGE</th>\n",
       "      <th>COUNT_DEATHS</th>\n",
       "    </tr>\n",
       "  </thead>\n",
       "  <tbody>\n",
       "    <tr>\n",
       "      <th>0</th>\n",
       "      <td>JANSSEN</td>\n",
       "      <td>10_19</td>\n",
       "      <td>2</td>\n",
       "    </tr>\n",
       "    <tr>\n",
       "      <th>1</th>\n",
       "      <td>JANSSEN</td>\n",
       "      <td>20_29</td>\n",
       "      <td>24</td>\n",
       "    </tr>\n",
       "    <tr>\n",
       "      <th>2</th>\n",
       "      <td>JANSSEN</td>\n",
       "      <td>30_39</td>\n",
       "      <td>37</td>\n",
       "    </tr>\n",
       "    <tr>\n",
       "      <th>3</th>\n",
       "      <td>JANSSEN</td>\n",
       "      <td>40_49</td>\n",
       "      <td>56</td>\n",
       "    </tr>\n",
       "    <tr>\n",
       "      <th>4</th>\n",
       "      <td>JANSSEN</td>\n",
       "      <td>50_59</td>\n",
       "      <td>100</td>\n",
       "    </tr>\n",
       "    <tr>\n",
       "      <th>5</th>\n",
       "      <td>JANSSEN</td>\n",
       "      <td>60_69</td>\n",
       "      <td>184</td>\n",
       "    </tr>\n",
       "    <tr>\n",
       "      <th>6</th>\n",
       "      <td>JANSSEN</td>\n",
       "      <td>70_79</td>\n",
       "      <td>136</td>\n",
       "    </tr>\n",
       "    <tr>\n",
       "      <th>7</th>\n",
       "      <td>JANSSEN</td>\n",
       "      <td>80_89</td>\n",
       "      <td>98</td>\n",
       "    </tr>\n",
       "    <tr>\n",
       "      <th>8</th>\n",
       "      <td>JANSSEN</td>\n",
       "      <td>90_99</td>\n",
       "      <td>44</td>\n",
       "    </tr>\n",
       "    <tr>\n",
       "      <th>9</th>\n",
       "      <td>JANSSEN</td>\n",
       "      <td>GTE_100</td>\n",
       "      <td>3</td>\n",
       "    </tr>\n",
       "    <tr>\n",
       "      <th>10</th>\n",
       "      <td>JANSSEN</td>\n",
       "      <td>UNKNOWN</td>\n",
       "      <td>337</td>\n",
       "    </tr>\n",
       "    <tr>\n",
       "      <th>11</th>\n",
       "      <td>MODERNA</td>\n",
       "      <td>0_9</td>\n",
       "      <td>1</td>\n",
       "    </tr>\n",
       "    <tr>\n",
       "      <th>12</th>\n",
       "      <td>MODERNA</td>\n",
       "      <td>10_19</td>\n",
       "      <td>9</td>\n",
       "    </tr>\n",
       "    <tr>\n",
       "      <th>13</th>\n",
       "      <td>MODERNA</td>\n",
       "      <td>20_29</td>\n",
       "      <td>45</td>\n",
       "    </tr>\n",
       "    <tr>\n",
       "      <th>14</th>\n",
       "      <td>MODERNA</td>\n",
       "      <td>30_39</td>\n",
       "      <td>83</td>\n",
       "    </tr>\n",
       "    <tr>\n",
       "      <th>15</th>\n",
       "      <td>MODERNA</td>\n",
       "      <td>40_49</td>\n",
       "      <td>132</td>\n",
       "    </tr>\n",
       "    <tr>\n",
       "      <th>16</th>\n",
       "      <td>MODERNA</td>\n",
       "      <td>50_59</td>\n",
       "      <td>306</td>\n",
       "    </tr>\n",
       "    <tr>\n",
       "      <th>17</th>\n",
       "      <td>MODERNA</td>\n",
       "      <td>60_69</td>\n",
       "      <td>622</td>\n",
       "    </tr>\n",
       "    <tr>\n",
       "      <th>18</th>\n",
       "      <td>MODERNA</td>\n",
       "      <td>70_79</td>\n",
       "      <td>950</td>\n",
       "    </tr>\n",
       "    <tr>\n",
       "      <th>19</th>\n",
       "      <td>MODERNA</td>\n",
       "      <td>80_89</td>\n",
       "      <td>939</td>\n",
       "    </tr>\n",
       "    <tr>\n",
       "      <th>20</th>\n",
       "      <td>MODERNA</td>\n",
       "      <td>90_99</td>\n",
       "      <td>443</td>\n",
       "    </tr>\n",
       "    <tr>\n",
       "      <th>21</th>\n",
       "      <td>MODERNA</td>\n",
       "      <td>GTE_100</td>\n",
       "      <td>22</td>\n",
       "    </tr>\n",
       "    <tr>\n",
       "      <th>22</th>\n",
       "      <td>MODERNA</td>\n",
       "      <td>UNKNOWN</td>\n",
       "      <td>211</td>\n",
       "    </tr>\n",
       "    <tr>\n",
       "      <th>23</th>\n",
       "      <td>PFIZER\\BIONTECH</td>\n",
       "      <td>0_9</td>\n",
       "      <td>2</td>\n",
       "    </tr>\n",
       "    <tr>\n",
       "      <th>24</th>\n",
       "      <td>PFIZER\\BIONTECH</td>\n",
       "      <td>10_19</td>\n",
       "      <td>28</td>\n",
       "    </tr>\n",
       "    <tr>\n",
       "      <th>25</th>\n",
       "      <td>PFIZER\\BIONTECH</td>\n",
       "      <td>20_29</td>\n",
       "      <td>66</td>\n",
       "    </tr>\n",
       "    <tr>\n",
       "      <th>26</th>\n",
       "      <td>PFIZER\\BIONTECH</td>\n",
       "      <td>30_39</td>\n",
       "      <td>121</td>\n",
       "    </tr>\n",
       "    <tr>\n",
       "      <th>27</th>\n",
       "      <td>PFIZER\\BIONTECH</td>\n",
       "      <td>40_49</td>\n",
       "      <td>160</td>\n",
       "    </tr>\n",
       "    <tr>\n",
       "      <th>28</th>\n",
       "      <td>PFIZER\\BIONTECH</td>\n",
       "      <td>50_59</td>\n",
       "      <td>367</td>\n",
       "    </tr>\n",
       "    <tr>\n",
       "      <th>29</th>\n",
       "      <td>PFIZER\\BIONTECH</td>\n",
       "      <td>60_69</td>\n",
       "      <td>811</td>\n",
       "    </tr>\n",
       "    <tr>\n",
       "      <th>30</th>\n",
       "      <td>PFIZER\\BIONTECH</td>\n",
       "      <td>70_79</td>\n",
       "      <td>1245</td>\n",
       "    </tr>\n",
       "    <tr>\n",
       "      <th>31</th>\n",
       "      <td>PFIZER\\BIONTECH</td>\n",
       "      <td>80_89</td>\n",
       "      <td>1626</td>\n",
       "    </tr>\n",
       "    <tr>\n",
       "      <th>32</th>\n",
       "      <td>PFIZER\\BIONTECH</td>\n",
       "      <td>90_99</td>\n",
       "      <td>815</td>\n",
       "    </tr>\n",
       "    <tr>\n",
       "      <th>33</th>\n",
       "      <td>PFIZER\\BIONTECH</td>\n",
       "      <td>GTE_100</td>\n",
       "      <td>57</td>\n",
       "    </tr>\n",
       "    <tr>\n",
       "      <th>34</th>\n",
       "      <td>PFIZER\\BIONTECH</td>\n",
       "      <td>UNKNOWN</td>\n",
       "      <td>5021</td>\n",
       "    </tr>\n",
       "    <tr>\n",
       "      <th>35</th>\n",
       "      <td>UNKNOWN MANUFACTURER</td>\n",
       "      <td>20_29</td>\n",
       "      <td>2</td>\n",
       "    </tr>\n",
       "    <tr>\n",
       "      <th>36</th>\n",
       "      <td>UNKNOWN MANUFACTURER</td>\n",
       "      <td>30_39</td>\n",
       "      <td>1</td>\n",
       "    </tr>\n",
       "    <tr>\n",
       "      <th>37</th>\n",
       "      <td>UNKNOWN MANUFACTURER</td>\n",
       "      <td>40_49</td>\n",
       "      <td>2</td>\n",
       "    </tr>\n",
       "    <tr>\n",
       "      <th>38</th>\n",
       "      <td>UNKNOWN MANUFACTURER</td>\n",
       "      <td>50_59</td>\n",
       "      <td>2</td>\n",
       "    </tr>\n",
       "    <tr>\n",
       "      <th>39</th>\n",
       "      <td>UNKNOWN MANUFACTURER</td>\n",
       "      <td>60_69</td>\n",
       "      <td>7</td>\n",
       "    </tr>\n",
       "    <tr>\n",
       "      <th>40</th>\n",
       "      <td>UNKNOWN MANUFACTURER</td>\n",
       "      <td>70_79</td>\n",
       "      <td>12</td>\n",
       "    </tr>\n",
       "    <tr>\n",
       "      <th>41</th>\n",
       "      <td>UNKNOWN MANUFACTURER</td>\n",
       "      <td>80_89</td>\n",
       "      <td>5</td>\n",
       "    </tr>\n",
       "    <tr>\n",
       "      <th>42</th>\n",
       "      <td>UNKNOWN MANUFACTURER</td>\n",
       "      <td>90_99</td>\n",
       "      <td>3</td>\n",
       "    </tr>\n",
       "    <tr>\n",
       "      <th>43</th>\n",
       "      <td>UNKNOWN MANUFACTURER</td>\n",
       "      <td>UNKNOWN</td>\n",
       "      <td>7</td>\n",
       "    </tr>\n",
       "  </tbody>\n",
       "</table>\n",
       "</div>"
      ],
      "text/plain": [
       "                VAX_MANU AGE_RANGE  COUNT_DEATHS\n",
       "0                JANSSEN     10_19             2\n",
       "1                JANSSEN     20_29            24\n",
       "2                JANSSEN     30_39            37\n",
       "3                JANSSEN     40_49            56\n",
       "4                JANSSEN     50_59           100\n",
       "5                JANSSEN     60_69           184\n",
       "6                JANSSEN     70_79           136\n",
       "7                JANSSEN     80_89            98\n",
       "8                JANSSEN     90_99            44\n",
       "9                JANSSEN   GTE_100             3\n",
       "10               JANSSEN   UNKNOWN           337\n",
       "11               MODERNA       0_9             1\n",
       "12               MODERNA     10_19             9\n",
       "13               MODERNA     20_29            45\n",
       "14               MODERNA     30_39            83\n",
       "15               MODERNA     40_49           132\n",
       "16               MODERNA     50_59           306\n",
       "17               MODERNA     60_69           622\n",
       "18               MODERNA     70_79           950\n",
       "19               MODERNA     80_89           939\n",
       "20               MODERNA     90_99           443\n",
       "21               MODERNA   GTE_100            22\n",
       "22               MODERNA   UNKNOWN           211\n",
       "23       PFIZER\\BIONTECH       0_9             2\n",
       "24       PFIZER\\BIONTECH     10_19            28\n",
       "25       PFIZER\\BIONTECH     20_29            66\n",
       "26       PFIZER\\BIONTECH     30_39           121\n",
       "27       PFIZER\\BIONTECH     40_49           160\n",
       "28       PFIZER\\BIONTECH     50_59           367\n",
       "29       PFIZER\\BIONTECH     60_69           811\n",
       "30       PFIZER\\BIONTECH     70_79          1245\n",
       "31       PFIZER\\BIONTECH     80_89          1626\n",
       "32       PFIZER\\BIONTECH     90_99           815\n",
       "33       PFIZER\\BIONTECH   GTE_100            57\n",
       "34       PFIZER\\BIONTECH   UNKNOWN          5021\n",
       "35  UNKNOWN MANUFACTURER     20_29             2\n",
       "36  UNKNOWN MANUFACTURER     30_39             1\n",
       "37  UNKNOWN MANUFACTURER     40_49             2\n",
       "38  UNKNOWN MANUFACTURER     50_59             2\n",
       "39  UNKNOWN MANUFACTURER     60_69             7\n",
       "40  UNKNOWN MANUFACTURER     70_79            12\n",
       "41  UNKNOWN MANUFACTURER     80_89             5\n",
       "42  UNKNOWN MANUFACTURER     90_99             3\n",
       "43  UNKNOWN MANUFACTURER   UNKNOWN             7"
      ]
     },
     "execution_count": 56,
     "metadata": {},
     "output_type": "execute_result"
    }
   ],
   "source": [
    "# Get just the deaths removing dupes\n",
    "covidDeathsFramePerMfgAndAge = (covidFrame[covidFrame[\"DIED\"] == \"Y\"].drop_duplicates(subset=[\"VAERS_ID\"]))\n",
    "\n",
    "# Now group by the age and manufacturer \n",
    "covidDeathsFramePerMfgAndAge = covidDeathsFramePerMfgAndAge.groupby(['VAX_MANU','AGE_RANGE'])[\"VAERS_ID\"].count().reset_index()\n",
    "\n",
    "# Rename the agg column \n",
    "covidDeathsFramePerMfgAndAge.rename(columns = {'VAERS_ID':'COUNT_DEATHS'}, inplace = True)\n",
    "\n",
    "covidDeathsFramePerMfgAndAge\n",
    "\n",
    "# Show graphs of deaths per million for each mfg \n",
    "#covidDeathsFramePerMfgAndAge.plot(kind = \"bar\", title = \"Events per Million vs. Manufacturer\")\n",
    "\n",
    "\n",
    "# # Convert to a float \n",
    "# covidDeathsFramePerMfg[\"VAX_MANU\"] = covidDeathsFramePerMfg[\"VAX_MANU\"].astype(\"float\")\n",
    "\n",
    "# # INDEX\t                    VAX_MANU\n",
    "# # PFIZER\\BIONTECH\t        10319\n",
    "# # MODERNA\t                3763\n",
    "# # JANSSEN\t                1021\n",
    "# # UNKNOWN MANUFACTURER\t    41\n",
    "\n",
    "# # Show graphs of deaths per million for each mfg \n",
    "# covidDeathsFramePerMfg[\"VAX_MANU\"].plot(kind = \"bar\", title = \"Total Death Count vs. Manufacturer\")"
   ]
  },
  {
   "cell_type": "markdown",
   "metadata": {},
   "source": [
    "BELOW THIS LINE IS ALL DEVELOPMENTAL "
   ]
  },
  {
   "cell_type": "code",
   "execution_count": 9,
   "metadata": {},
   "outputs": [
    {
     "data": {
      "text/plain": [
       "<matplotlib.axes._subplots.AxesSubplot at 0x28002b54448>"
      ]
     },
     "execution_count": 9,
     "metadata": {},
     "output_type": "execute_result"
    },
    {
     "data": {
      "image/png": "[encoded data removed]",
      "text/plain": [
       "<Figure size 432x288 with 1 Axes>"
      ]
     },
     "metadata": {
      "needs_background": "light"
     },
     "output_type": "display_data"
    }
   ],
   "source": [
    "# Get all the deaths \n",
    "covidDeathsFrame = covidFrame[covidFrame[\"DIED\"] == \"Y\"]\n",
    "\n",
    "# Drop the duplicates which result for multiple vax at same time\n",
    "covidDeathsFrameNoDupes = covidDeathsFrame.drop_duplicates(subset=[\"VAERS_ID\"])\n",
    "\n",
    "# Print the data to file \n",
    "covidDeathsFrameNoDupes.to_csv(\"covidDeathsFrameNoDupes.csv\")\n",
    "\n",
    "# Show the bar graph of deaths by manufacturer\n",
    "covidDeathsFrameNoDupes[\"VAX_MANU\"].value_counts().plot(kind = \"bar\", title = \"Deaths vs. Manufacturer\")"
   ]
  },
  {
   "cell_type": "code",
   "execution_count": 10,
   "metadata": {},
   "outputs": [
    {
     "data": {
      "text/plain": [
       "<matplotlib.axes._subplots.AxesSubplot at 0x28003385748>"
      ]
     },
     "execution_count": 10,
     "metadata": {},
     "output_type": "execute_result"
    },
    {
     "data": {
      "image/png": "[encoded data removed]",
      "text/plain": [
       "<Figure size 432x288 with 1 Axes>"
      ]
     },
     "metadata": {
      "needs_background": "light"
     },
     "output_type": "display_data"
    }
   ],
   "source": [
    "# Drop the duplicates which result for multiple vax at same time\n",
    "covidFrameNoDupes = covidFrame.drop_duplicates(subset=[\"VAERS_ID\"])\n",
    "\n",
    "# Plot all the reactions by manufacturer\n",
    "covidFrameNoDupes[\"VAX_MANU\"].value_counts().plot(kind = \"bar\", title = \"Adverse vs. Manufacturer\")"
   ]
  },
  {
   "cell_type": "code",
   "execution_count": 11,
   "metadata": {},
   "outputs": [
    {
     "ename": "ValueError",
     "evalue": "min() arg is an empty sequence",
     "output_type": "error",
     "traceback": [
      "\u001b[1;31m---------------------------------------------------------------------------\u001b[0m",
      "\u001b[1;31mValueError\u001b[0m                                Traceback (most recent call last)",
      "\u001b[1;32m<ipython-input-11-5d61b15355ef>\u001b[0m in \u001b[0;36m<module>\u001b[1;34m\u001b[0m\n\u001b[0;32m      9\u001b[0m             \u001b[0my\u001b[0m \u001b[1;33m=\u001b[0m \u001b[1;34m\"administered_janssen\"\u001b[0m\u001b[1;33m,\u001b[0m       \u001b[1;31m# y variable name\u001b[0m\u001b[1;33m\u001b[0m\u001b[1;33m\u001b[0m\u001b[0m\n\u001b[0;32m     10\u001b[0m             \u001b[0mdata\u001b[0m \u001b[1;33m=\u001b[0m \u001b[0mtodaysDataOnly\u001b[0m\u001b[1;33m,\u001b[0m     \u001b[1;31m# dataframe to plot\u001b[0m\u001b[1;33m\u001b[0m\u001b[1;33m\u001b[0m\u001b[0m\n\u001b[1;32m---> 11\u001b[1;33m             kind = \"bar\")\n\u001b[0m\u001b[0;32m     12\u001b[0m \u001b[1;33m\u001b[0m\u001b[0m\n\u001b[0;32m     13\u001b[0m \u001b[1;33m\u001b[0m\u001b[0m\n",
      "\u001b[1;32mD:\\ProgramFiles\\Python\\Anaconda3\\lib\\site-packages\\seaborn\\categorical.py\u001b[0m in \u001b[0;36mcatplot\u001b[1;34m(x, y, hue, data, row, col, col_wrap, estimator, ci, n_boot, units, seed, order, hue_order, row_order, col_order, kind, height, aspect, orient, color, palette, legend, legend_out, sharex, sharey, margin_titles, facet_kws, **kwargs)\u001b[0m\n\u001b[0;32m   3732\u001b[0m     \u001b[1;31m# so we need to define ``palette`` to get default behavior for the\u001b[0m\u001b[1;33m\u001b[0m\u001b[1;33m\u001b[0m\u001b[1;33m\u001b[0m\u001b[0m\n\u001b[0;32m   3733\u001b[0m     \u001b[1;31m# categorical functions\u001b[0m\u001b[1;33m\u001b[0m\u001b[1;33m\u001b[0m\u001b[1;33m\u001b[0m\u001b[0m\n\u001b[1;32m-> 3734\u001b[1;33m     \u001b[0mp\u001b[0m\u001b[1;33m.\u001b[0m\u001b[0mestablish_colors\u001b[0m\u001b[1;33m(\u001b[0m\u001b[0mcolor\u001b[0m\u001b[1;33m,\u001b[0m \u001b[0mpalette\u001b[0m\u001b[1;33m,\u001b[0m \u001b[1;36m1\u001b[0m\u001b[1;33m)\u001b[0m\u001b[1;33m\u001b[0m\u001b[1;33m\u001b[0m\u001b[0m\n\u001b[0m\u001b[0;32m   3735\u001b[0m     \u001b[1;32mif\u001b[0m \u001b[0mkind\u001b[0m \u001b[1;33m!=\u001b[0m \u001b[1;34m\"point\"\u001b[0m \u001b[1;32mor\u001b[0m \u001b[0mhue\u001b[0m \u001b[1;32mis\u001b[0m \u001b[1;32mnot\u001b[0m \u001b[1;32mNone\u001b[0m\u001b[1;33m:\u001b[0m\u001b[1;33m\u001b[0m\u001b[1;33m\u001b[0m\u001b[0m\n\u001b[0;32m   3736\u001b[0m         \u001b[0mpalette\u001b[0m \u001b[1;33m=\u001b[0m \u001b[0mp\u001b[0m\u001b[1;33m.\u001b[0m\u001b[0mcolors\u001b[0m\u001b[1;33m\u001b[0m\u001b[1;33m\u001b[0m\u001b[0m\n",
      "\u001b[1;32mD:\\ProgramFiles\\Python\\Anaconda3\\lib\\site-packages\\seaborn\\categorical.py\u001b[0m in \u001b[0;36mestablish_colors\u001b[1;34m(self, color, palette, saturation)\u001b[0m\n\u001b[0;32m    314\u001b[0m         \u001b[1;31m# Determine the gray color to use for the lines framing the plot\u001b[0m\u001b[1;33m\u001b[0m\u001b[1;33m\u001b[0m\u001b[1;33m\u001b[0m\u001b[0m\n\u001b[0;32m    315\u001b[0m         \u001b[0mlight_vals\u001b[0m \u001b[1;33m=\u001b[0m \u001b[1;33m[\u001b[0m\u001b[0mcolorsys\u001b[0m\u001b[1;33m.\u001b[0m\u001b[0mrgb_to_hls\u001b[0m\u001b[1;33m(\u001b[0m\u001b[1;33m*\u001b[0m\u001b[0mc\u001b[0m\u001b[1;33m)\u001b[0m\u001b[1;33m[\u001b[0m\u001b[1;36m1\u001b[0m\u001b[1;33m]\u001b[0m \u001b[1;32mfor\u001b[0m \u001b[0mc\u001b[0m \u001b[1;32min\u001b[0m \u001b[0mrgb_colors\u001b[0m\u001b[1;33m]\u001b[0m\u001b[1;33m\u001b[0m\u001b[1;33m\u001b[0m\u001b[0m\n\u001b[1;32m--> 316\u001b[1;33m         \u001b[0mlum\u001b[0m \u001b[1;33m=\u001b[0m \u001b[0mmin\u001b[0m\u001b[1;33m(\u001b[0m\u001b[0mlight_vals\u001b[0m\u001b[1;33m)\u001b[0m \u001b[1;33m*\u001b[0m \u001b[1;36m.6\u001b[0m\u001b[1;33m\u001b[0m\u001b[1;33m\u001b[0m\u001b[0m\n\u001b[0m\u001b[0;32m    317\u001b[0m         \u001b[0mgray\u001b[0m \u001b[1;33m=\u001b[0m \u001b[0mmpl\u001b[0m\u001b[1;33m.\u001b[0m\u001b[0mcolors\u001b[0m\u001b[1;33m.\u001b[0m\u001b[0mrgb2hex\u001b[0m\u001b[1;33m(\u001b[0m\u001b[1;33m(\u001b[0m\u001b[0mlum\u001b[0m\u001b[1;33m,\u001b[0m \u001b[0mlum\u001b[0m\u001b[1;33m,\u001b[0m \u001b[0mlum\u001b[0m\u001b[1;33m)\u001b[0m\u001b[1;33m)\u001b[0m\u001b[1;33m\u001b[0m\u001b[1;33m\u001b[0m\u001b[0m\n\u001b[0;32m    318\u001b[0m \u001b[1;33m\u001b[0m\u001b[0m\n",
      "\u001b[1;31mValueError\u001b[0m: min() arg is an empty sequence"
     ]
    }
   ],
   "source": [
    "# Administered_Janssen\tAdministered_Moderna\tAdministered_Pfizer\tAdministered_Unk_Manuf\n",
    "\n",
    "# Only return todays date \n",
    "todaysDataOnly = workingAdministrationDataFrame[workingAdministrationDataFrame.date == date.today()]\n",
    "todaysDataOnly = todaysDataOnly[todaysDataOnly.location != \"US\"]\n",
    "\n",
    "\n",
    "sns.catplot(x = \"location\",       # x variable name\n",
    "            y = \"administered_janssen\",       # y variable name\n",
    "            data = todaysDataOnly,     # dataframe to plot\n",
    "            kind = \"bar\")\n",
    "\n",
    "\n",
    "\n",
    "# todaysDataOnly[\"administered_janssen\"]\n",
    "# todaysDataOnly[\"administered_janssen\"].plot(kind = \"bar\", index= title = \"Adverse vs. Manufacturer\")"
   ]
  }
 ],
 "metadata": {
  "interpreter": {
   "hash": "f2c8a1743301a7cb30ab93c7645f660a12583e7420143828028bb939169b181f"
  },
  "kernelspec": {
   "display_name": "Python 3.7.6 64-bit ('base': conda)",
   "name": "python3"
  },
  "language_info": {
   "codemirror_mode": {
    "name": "ipython",
    "version": 3
   },
   "file_extension": ".py",
   "mimetype": "text/x-python",
   "name": "python",
   "nbconvert_exporter": "python",
   "pygments_lexer": "ipython3",
   "version": "3.7.6"
  }
 },
 "nbformat": 4,
 "nbformat_minor": 4
}
