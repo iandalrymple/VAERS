{
 "cells": [
  {
   "cell_type": "code",
   "execution_count": 134,
   "source": [
    "# Imports \r\n",
    "import numpy as np\r\n",
    "import pandas as pd\r\n",
    "import pyodbc as db\r\n",
    "import matplotlib.pyplot as plt\r\n",
    "import os\r\n",
    "%matplotlib inline\r\n",
    "import requests\r\n",
    "from requests.auth import HTTPBasicAuth\r\n",
    "from io import StringIO\r\n",
    "from sodapy import Socrata\r\n",
    "from datetime import date\r\n",
    "import datetime\r\n",
    "import seaborn as sns\r\n",
    "\r\n",
    "# Constants \r\n",
    "stringVAERSDATA     = \"VAERSDATA\"\r\n",
    "stringVAERSSYMPTOMS = \"VAERSSYMPTOMS\"\r\n",
    "stringVAERSVAX      = \"VAERSVAX\"\r\n",
    "\r\n",
    "# API values \r\n",
    "# https://dev.socrata.com/foundry/data.cdc.gov/unsk-b7fc\r\n",
    "# https://data.cdc.gov/Vaccinations/COVID-19-Vaccinations-in-the-United-States-Jurisdi/unsk-b7fc\r\n",
    "# https://dev.socrata.com/foundry/data.cdc.gov/unsk-b7fc\r\n",
    "apiKeyName      = \"IAN_VAERS\"\r\n",
    "apiKeyId        = \"b4nhr0ojmr7cq4envv3a8ofc5\"\r\n",
    "apiSecretApi    = \"3ry6vfrzt53fl7p0kn8ir8hdnq70aeclapu5abnar08r8fbz5d\"\r\n",
    "apiToken        = \"jDHbO06h1r193Y7NHHlbNWVfW\"\r\n",
    "apiSecretToken  = \"9BZJSPTkndWKvJWBZp-mVIHK8X3yVrk9gBND\"\r\n",
    "\r\n",
    "# Column datatypes - need to finish @TODO - getting the following warning when reading in files:\r\n",
    "# DtypeWarning: Columns (11,13,15,16,27) have mixed types.Specify dtype option on import or set low_memory=False. interactivity=interactivity, compiler=compiler, result=result)\r\n",
    "dtype_VAERSDATA = {\"VAERS_ID\": np.int64, \"RECVDATE\": np.object, \"STATE\": np.str, \"AGE_YRS\": np.float64, \"CAGE_YR\": np.float64, \"CAGE_MO\": np.float64, \"SEX\": np.str, \"RPT_VDATE\": np.object, \"SYMPTOM_TEXT\": np.str, \"DIED\": np.str, \"DATEDIED\": np.object, \"L_THREAD\": np.str, \"ER_VISIT\": np.str}"
   ],
   "outputs": [],
   "metadata": {}
  },
  {
   "cell_type": "code",
   "execution_count": 68,
   "source": [
    "# Locals \r\n",
    "dfVAERSDATA_Initialized     = False\r\n",
    "dfVAERSSYMPTOMS_Initialized = False\r\n",
    "dfVAERSVAX_Initialized      = False\r\n",
    "directory = '.\\AllVAERSDataCSVS'\r\n",
    " \r\n",
    "# Iterate over files \r\n",
    "for filename in os.listdir(directory):\r\n",
    "\r\n",
    "    # Create the file name \r\n",
    "    fullFilename = os.path.join(directory, filename)\r\n",
    "\r\n",
    "    # Ensure its a file\r\n",
    "    if os.path.isfile(fullFilename):\r\n",
    "\r\n",
    "        # Print the file name to see where it breaks - if needed \r\n",
    "        # print(fullFilename)\r\n",
    "\r\n",
    "        # Overall\r\n",
    "        if(fullFilename.__contains__(stringVAERSDATA)):\r\n",
    "            \r\n",
    "            # Check if the dataframe has been initialized\r\n",
    "            if(dfVAERSDATA_Initialized == False):\r\n",
    "                \r\n",
    "                # Read in the file to this dataframe directly \r\n",
    "                dfVAERSDATA = pd.read_csv(fullFilename, encoding='cp1252', dtype=dtype_VAERSDATA)\r\n",
    "\r\n",
    "                # Set to init \r\n",
    "                dfVAERSDATA_Initialized = True\r\n",
    "\r\n",
    "            else:\r\n",
    "\r\n",
    "                # Add the new file to the dataframe that has been init'd\r\n",
    "                dfVAERSDATA = pd.concat([dfVAERSDATA, pd.read_csv(fullFilename, encoding='cp1252', dtype=dtype_VAERSDATA)], ignore_index=True)\r\n",
    "            \r\n",
    "        # Symptoms\r\n",
    "        elif(fullFilename.__contains__(stringVAERSSYMPTOMS)):\r\n",
    "            \r\n",
    "            # Check if the dataframe has been initialized\r\n",
    "            if(dfVAERSSYMPTOMS_Initialized == False):\r\n",
    "                \r\n",
    "                # Read in the file to this dataframe directly \r\n",
    "                dfVAERSSYMPTOMS = pd.read_csv(fullFilename, encoding='cp1252')\r\n",
    "\r\n",
    "                # Set to init \r\n",
    "                dfVAERSSYMPTOMS_Initialized = True\r\n",
    "\r\n",
    "            else:\r\n",
    "\r\n",
    "                # Add the new file to the dataframe that has been init'd\r\n",
    "                dfVAERSSYMPTOMS = pd.concat([dfVAERSSYMPTOMS, pd.read_csv(fullFilename, encoding='cp1252')], ignore_index=True)\r\n",
    "\r\n",
    "        # Vax\r\n",
    "        elif(fullFilename.__contains__(stringVAERSVAX)):\r\n",
    "            \r\n",
    "            # Check if the dataframe has been initialized\r\n",
    "            if(dfVAERSVAX_Initialized == False):\r\n",
    "                \r\n",
    "                # Read in the file to this dataframe directly \r\n",
    "                dfVAERSVAX = pd.read_csv(fullFilename, encoding='cp1252')\r\n",
    "\r\n",
    "                # Set to init \r\n",
    "                dfVAERSVAX_Initialized = True\r\n",
    "\r\n",
    "            else:\r\n",
    "\r\n",
    "                # Add the new file to the dataframe that has been init'd\r\n",
    "                dfVAERSVAX = pd.concat([dfVAERSVAX, pd.read_csv(fullFilename, encoding='cp1252')], ignore_index=True)\r\n",
    "        \r\n",
    "\r\n",
    "# Merge the vax with the symptoms tables have duplicates or can \r\n",
    "# have duplicates hence using full outer join. Merging vax and symptoms first.\r\n",
    "completeDataFrame = pd.merge(left = dfVAERSVAX, right = dfVAERSSYMPTOMS, \\\r\n",
    "                      how = \"outer\", left_on = [\"VAERS_ID\"], \\\r\n",
    "                      right_on = [\"VAERS_ID\"])\r\n",
    "\r\n",
    "# Now merge the data frame into the merged frame \r\n",
    "completeDataFrame = pd.merge(left = completeDataFrame, right = dfVAERSDATA, \\\r\n",
    "                      how = \"outer\", left_on = [\"VAERS_ID\"], \\\r\n",
    "                      right_on = [\"VAERS_ID\"])\r\n",
    "\r\n",
    "# Performance notes:\r\n",
    "# Takes about 100 seconds on Dell Precision 752 with Intel(R) Core(TM) i7-6820HQ CPU @ 2.70GHz, 2701 Mhz, 4 Core(s), 8 Logical Processor(s)"
   ],
   "outputs": [
    {
     "output_type": "stream",
     "name": "stderr",
     "text": [
      "D:\\ProgramFiles\\Python\\Anaconda3\\lib\\site-packages\\IPython\\core\\interactiveshell.py:3063: DtypeWarning: Columns (11,13,15,16,27) have mixed types.Specify dtype option on import or set low_memory=False.\n",
      "  interactivity=interactivity, compiler=compiler, result=result)\n",
      "D:\\ProgramFiles\\Python\\Anaconda3\\lib\\site-packages\\IPython\\core\\interactiveshell.py:3063: DtypeWarning: Columns (31) have mixed types.Specify dtype option on import or set low_memory=False.\n",
      "  interactivity=interactivity, compiler=compiler, result=result)\n",
      "D:\\ProgramFiles\\Python\\Anaconda3\\lib\\site-packages\\IPython\\core\\interactiveshell.py:3063: DtypeWarning: Columns (7,15,23,31) have mixed types.Specify dtype option on import or set low_memory=False.\n",
      "  interactivity=interactivity, compiler=compiler, result=result)\n",
      "D:\\ProgramFiles\\Python\\Anaconda3\\lib\\site-packages\\IPython\\core\\interactiveshell.py:3063: DtypeWarning: Columns (7,15,23) have mixed types.Specify dtype option on import or set low_memory=False.\n",
      "  interactivity=interactivity, compiler=compiler, result=result)\n",
      "D:\\ProgramFiles\\Python\\Anaconda3\\lib\\site-packages\\IPython\\core\\interactiveshell.py:3063: DtypeWarning: Columns (7,23,30,31,32,33,34) have mixed types.Specify dtype option on import or set low_memory=False.\n",
      "  interactivity=interactivity, compiler=compiler, result=result)\n"
     ]
    }
   ],
   "metadata": {}
  },
  {
   "cell_type": "code",
   "execution_count": 3,
   "source": [
    "# Make a copy so we can leave the original untouched \r\n",
    "workingVaxFrame = completeDataFrame.copy(deep=True)\r\n",
    "\r\n",
    "# Print the frame out for fun - DO NOT DO THIS CAUSE THE FILE IS WAY TOO BIG \r\n",
    "# workingVaxFrame.to_csv(\"workingVaxFrame.csv\")"
   ],
   "outputs": [],
   "metadata": {}
  },
  {
   "cell_type": "code",
   "execution_count": 5,
   "source": [
    "# Get all the values of the type of vaccine to try and find the covid \r\n",
    "covidFrame = workingVaxFrame[workingVaxFrame[\"VAX_TYPE\"] == \"COVID19\"]\r\n",
    "\r\n",
    "print(covidFrame.VAERS_ID.unique().shape[0], covidFrame[covidFrame[\"DIED\"] == \"Y\"].VAERS_ID.unique().shape[0])"
   ],
   "outputs": [
    {
     "output_type": "stream",
     "name": "stdout",
     "text": [
      "717960 15144\n"
     ]
    }
   ],
   "metadata": {}
  },
  {
   "cell_type": "code",
   "execution_count": 20,
   "source": [
    "# Get all the deaths \r\n",
    "covidDeathsFrame = covidFrame[covidFrame[\"DIED\"] == \"Y\"]\r\n",
    "\r\n",
    "# Drop the duplicates which result for multiple vax at same time\r\n",
    "covidDeathsFrameNoDupes = covidDeathsFrame.drop_duplicates(subset=[\"VAERS_ID\"])\r\n",
    "\r\n",
    "# Print the data to file \r\n",
    "covidDeathsFrameNoDupes.to_csv(\"covidDeathsFrameNoDupes.csv\")\r\n",
    "\r\n",
    "# Show the bar graph of deaths \r\n",
    "covidDeathsFrameNoDupes[\"VAX_MANU\"].value_counts().plot(kind = \"bar\", title = \"Deaths vs. Manufacturer\")"
   ],
   "outputs": [
    {
     "output_type": "execute_result",
     "data": {
      "text/plain": [
       "<matplotlib.axes._subplots.AxesSubplot at 0x26bc11857c8>"
      ]
     },
     "metadata": {},
     "execution_count": 20
    },
    {
     "output_type": "display_data",
     "data": {
      "image/png": "[encoded data removed]",
      "text/plain": [
       "<Figure size 432x288 with 1 Axes>"
      ]
     },
     "metadata": {
      "needs_background": "light"
     }
    }
   ],
   "metadata": {}
  },
  {
   "cell_type": "code",
   "execution_count": 21,
   "source": [
    "# Drop the duplicates which result for multiple vax at same time\r\n",
    "covidFrameNoDupes = covidFrame.drop_duplicates(subset=[\"VAERS_ID\"])\r\n",
    "\r\n",
    "# Plot all the reactions by manufacturer\r\n",
    "covidFrameNoDupes[\"VAX_MANU\"].value_counts().plot(kind = \"bar\", title = \"Adverse vs. Manufacturer\")"
   ],
   "outputs": [
    {
     "output_type": "execute_result",
     "data": {
      "text/plain": [
       "<matplotlib.axes._subplots.AxesSubplot at 0x26bc1041248>"
      ]
     },
     "metadata": {},
     "execution_count": 21
    },
    {
     "output_type": "display_data",
     "data": {
      "image/png": "[encoded data removed]",
      "text/plain": [
       "<Figure size 432x288 with 1 Axes>"
      ]
     },
     "metadata": {
      "needs_background": "light"
     }
    }
   ],
   "metadata": {}
  },
  {
   "cell_type": "code",
   "execution_count": 121,
   "source": [
    "# Taken directly from \r\n",
    "# https://dev.socrata.com/foundry/data.cdc.gov/unsk-b7fc\r\n",
    "\r\n",
    "# Unauthenticated client only works with public data sets. Note 'None'\r\n",
    "# in place of application token, and no username or password:\r\n",
    "client = Socrata(\"data.cdc.gov\", None)\r\n",
    "\r\n",
    "# Example authenticated client (needed for non-public datasets):\r\n",
    "# client = Socrata(data.cdc.gov,\r\n",
    "#                  MyAppToken,\r\n",
    "#                  userame=\"user@example.com\",\r\n",
    "#                  password=\"AFakePassword\")\r\n",
    "\r\n",
    "# First 50000 results, returned as JSON from API / converted to Python list of dictionaries by sodapy.\r\n",
    "getResults = client.get(\"unsk-b7fc\", limit=50000)\r\n",
    "\r\n",
    "# Convert to pandas DataFrame\r\n",
    "administrationDataFrame = pd.DataFrame.from_records(getResults)\r\n",
    "\r\n",
    "# Convert to date time \r\n",
    "administrationDataFrame[\"date\"] = pd.to_datetime(administrationDataFrame[\"date\"]).dt.date\r\n",
    "\r\n",
    "# Print to file \r\n",
    "administrationDataFrame.to_csv(\"results_df.csv\")\r\n",
    "\r\n",
    "# Alternative method - may be useful later \r\n",
    "# rawResponse = requests.get('https://data.cdc.gov/resource/unsk-b7fc.csv', auth=HTTPBasicAuth(apiKeyId, apiSecretApi))\r\n",
    "# stringResponse = StringIO(rawResponse.text)\r\n",
    "# vaxAdministeredDataFrame = pd.read_csv(stringResponse, sep =\",\")\r\n",
    "# vaxAdministeredDataFrame.to_csv(\"vaxAdministeredDataFrame.csv\")"
   ],
   "outputs": [
    {
     "output_type": "stream",
     "name": "stderr",
     "text": [
      "WARNING:root:Requests made without an app_token will be subject to strict throttling limits.\n"
     ]
    }
   ],
   "metadata": {}
  },
  {
   "cell_type": "code",
   "execution_count": 122,
   "source": [
    "# Make a copy so we can leave the original untouched \r\n",
    "workingAdministrationDataFrame = administrationDataFrame.copy(deep=True)"
   ],
   "outputs": [],
   "metadata": {}
  },
  {
   "cell_type": "code",
   "execution_count": 123,
   "source": [
    "workingAdministrationDataFrame.info()"
   ],
   "outputs": [
    {
     "output_type": "stream",
     "name": "stdout",
     "text": [
      "<class 'pandas.core.frame.DataFrame'>\n",
      "RangeIndex: 19273 entries, 0 to 19272\n",
      "Data columns (total 81 columns):\n",
      " #   Column                           Non-Null Count  Dtype \n",
      "---  ------                           --------------  ----- \n",
      " 0   date                             19273 non-null  object\n",
      " 1   mmwr_week                        19273 non-null  object\n",
      " 2   location                         19273 non-null  object\n",
      " 3   distributed                      19273 non-null  object\n",
      " 4   distributed_janssen              19273 non-null  object\n",
      " 5   distributed_moderna              19273 non-null  object\n",
      " 6   distributed_pfizer               19273 non-null  object\n",
      " 7   distributed_unk_manuf            19273 non-null  object\n",
      " 8   dist_per_100k                    19273 non-null  object\n",
      " 9   distributed_per_100k_12plus      19273 non-null  object\n",
      " 10  distributed_per_100k_18plus      19273 non-null  object\n",
      " 11  distributed_per_100k_65plus      19273 non-null  object\n",
      " 12  administered                     19273 non-null  object\n",
      " 13  administered_12plus              19273 non-null  object\n",
      " 14  administered_18plus              19273 non-null  object\n",
      " 15  administered_65plus              19273 non-null  object\n",
      " 16  administered_janssen             19273 non-null  object\n",
      " 17  administered_moderna             19273 non-null  object\n",
      " 18  administered_pfizer              19273 non-null  object\n",
      " 19  administered_unk_manuf           19273 non-null  object\n",
      " 20  administered_fed_ltc             19273 non-null  object\n",
      " 21  administered_fed_ltc_residents   19273 non-null  object\n",
      " 22  administered_fed_ltc_staff       19273 non-null  object\n",
      " 23  administered_fed_ltc_unk         19273 non-null  object\n",
      " 24  administered_fed_ltc_dose1       19273 non-null  object\n",
      " 25  administered_fed_ltc_dose1_1     19273 non-null  object\n",
      " 26  administered_fed_ltc_dose1_2     19273 non-null  object\n",
      " 27  administered_fed_ltc_dose1_3     19273 non-null  object\n",
      " 28  admin_per_100k                   19273 non-null  object\n",
      " 29  admin_per_100k_12plus            19273 non-null  object\n",
      " 30  admin_per_100k_18plus            19273 non-null  object\n",
      " 31  admin_per_100k_65plus            19273 non-null  object\n",
      " 32  recip_administered               19273 non-null  object\n",
      " 33  administered_dose1_recip         19273 non-null  object\n",
      " 34  administered_dose1_pop_pct       19273 non-null  object\n",
      " 35  administered_dose1_recip_1       19273 non-null  object\n",
      " 36  administered_dose1_recip_2       19273 non-null  object\n",
      " 37  administered_dose1_recip_3       19273 non-null  object\n",
      " 38  administered_dose1_recip_4       19273 non-null  object\n",
      " 39  administered_dose1_recip_5       19273 non-null  object\n",
      " 40  administered_dose1_recip_6       19273 non-null  object\n",
      " 41  series_complete_yes              19273 non-null  object\n",
      " 42  series_complete_pop_pct          19273 non-null  object\n",
      " 43  series_complete_12plus           19273 non-null  object\n",
      " 44  series_complete_12pluspop        19273 non-null  object\n",
      " 45  series_complete_18plus           19273 non-null  object\n",
      " 46  series_complete_18pluspop        19273 non-null  object\n",
      " 47  series_complete_65plus           19273 non-null  object\n",
      " 48  series_complete_65pluspop        19273 non-null  object\n",
      " 49  series_complete_janssen          19273 non-null  object\n",
      " 50  series_complete_moderna          19273 non-null  object\n",
      " 51  series_complete_pfizer           19273 non-null  object\n",
      " 52  series_complete_unk_manuf        19273 non-null  object\n",
      " 53  series_complete_janssen_12plus   19273 non-null  object\n",
      " 54  series_complete_moderna_12plus   19273 non-null  object\n",
      " 55  series_complete_pfizer_12plus    19273 non-null  object\n",
      " 56  series_complete_unk_manuf_1      19273 non-null  object\n",
      " 57  series_complete_janssen_18plus   19273 non-null  object\n",
      " 58  series_complete_moderna_18plus   19273 non-null  object\n",
      " 59  series_complete_pfizer_18plus    19273 non-null  object\n",
      " 60  series_complete_unk_manuf_2      19273 non-null  object\n",
      " 61  series_complete_janssen_65plus   19273 non-null  object\n",
      " 62  series_complete_moderna_65plus   19273 non-null  object\n",
      " 63  series_complete_pfizer_65plus    19273 non-null  object\n",
      " 64  series_complete_unk_manuf_3      19273 non-null  object\n",
      " 65  series_complete_fedltc           19273 non-null  object\n",
      " 66  series_complete_fedltc_1         19273 non-null  object\n",
      " 67  series_complete_fedltc_staff     19273 non-null  object\n",
      " 68  series_complete_fedltc_unknown   19273 non-null  object\n",
      " 69  additional_doses                 2925 non-null   object\n",
      " 70  additional_doses_vax_pct         18948 non-null  object\n",
      " 71  additional_doses_18plus          18948 non-null  object\n",
      " 72  additional_doses_18plus_vax_pct  18948 non-null  object\n",
      " 73  additional_doses_50plus          18948 non-null  object\n",
      " 74  additional_doses_50plus_vax_pct  19273 non-null  object\n",
      " 75  additional_doses_65plus          18948 non-null  object\n",
      " 76  additional_doses_65plus_vax_pct  18948 non-null  object\n",
      " 77  additional_doses_moderna         18948 non-null  object\n",
      " 78  additional_doses_pfizer          18948 non-null  object\n",
      " 79  additional_doses_janssen         18948 non-null  object\n",
      " 80  additional_doses_unk_manuf       18948 non-null  object\n",
      "dtypes: object(81)\n",
      "memory usage: 11.9+ MB\n"
     ]
    }
   ],
   "metadata": {}
  },
  {
   "cell_type": "code",
   "execution_count": 136,
   "source": [
    "# Administered_Janssen\tAdministered_Moderna\tAdministered_Pfizer\tAdministered_Unk_Manuf\r\n",
    "\r\n",
    "# Only return todays date \r\n",
    "todaysDataOnly = workingAdministrationDataFrame[workingAdministrationDataFrame.date == date.today()]\r\n",
    "todaysDataOnly = todaysDataOnly[todaysDataOnly.location != \"US\"]\r\n",
    "\r\n",
    "\r\n",
    "sns.catplot(x = \"location\",       # x variable name\r\n",
    "            y = \"administered_janssen\",       # y variable name\r\n",
    "            data = todaysDataOnly,     # dataframe to plot\r\n",
    "            kind = \"bar\")\r\n",
    "\r\n",
    "\r\n",
    "\r\n",
    "# todaysDataOnly[\"administered_janssen\"]\r\n",
    "# todaysDataOnly[\"administered_janssen\"].plot(kind = \"bar\", index= title = \"Adverse vs. Manufacturer\")"
   ],
   "outputs": [
    {
     "output_type": "execute_result",
     "data": {
      "text/plain": [
       "<seaborn.axisgrid.FacetGrid at 0x24b02582b48>"
      ]
     },
     "metadata": {},
     "execution_count": 136
    },
    {
     "output_type": "display_data",
     "data": {
      "image/png": "[encoded data removed]",
      "text/plain": [
       "<Figure size 360x360 with 1 Axes>"
      ]
     },
     "metadata": {
      "needs_background": "light"
     }
    }
   ],
   "metadata": {}
  }
 ],
 "metadata": {
  "kernelspec": {
   "name": "python3",
   "display_name": "Python 3.7.6 64-bit ('base': conda)"
  },
  "language_info": {
   "codemirror_mode": {
    "name": "ipython",
    "version": 3
   },
   "file_extension": ".py",
   "mimetype": "text/x-python",
   "name": "python",
   "nbconvert_exporter": "python",
   "pygments_lexer": "ipython3",
   "version": "3.7.6"
  },
  "interpreter": {
   "hash": "f2c8a1743301a7cb30ab93c7645f660a12583e7420143828028bb939169b181f"
  }
 },
 "nbformat": 4,
 "nbformat_minor": 4
}