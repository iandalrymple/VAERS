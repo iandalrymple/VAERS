{
 "cells": [
  {
   "cell_type": "code",
   "execution_count": 10,
   "source": [
    "# Imports \r\n",
    "import numpy as np\r\n",
    "import pandas as pd\r\n",
    "import pyodbc as db\r\n",
    "import matplotlib.pyplot as plt\r\n",
    "import os\r\n",
    "\r\n",
    "# Constants \r\n",
    "stringVAERSDATA     = \"VAERSDATA\"\r\n",
    "stringVAERSSYMPTOMS = \"VAERSSYMPTOMS\"\r\n",
    "stringVAERSVAX      = \"VAERSVAX\"\r\n",
    "\r\n",
    "# Column datatypes - need to finish @TODO - getting the following warning when reading in files:\r\n",
    "# DtypeWarning: Columns (11,13,15,16,27) have mixed types.Specify dtype option on import or set low_memory=False. interactivity=interactivity, compiler=compiler, result=result)\r\n",
    "dtype_VAERSDATA = {\"VAERS_ID\": np.int64, \"RECVDATE\": np.object, \"STATE\": np.str, \"AGE_YRS\": np.float64, \"CAGE_YR\": np.float64, \"CAGE_MO\": np.float64, \"SEX\": np.str, \"RPT_VDATE\": np.object, \"SYMPTOM_TEXT\": np.str, \"DIED\": np.str, \"DATEDIED\": np.object, \"L_THREAD\": np.str, \"ER_VISIT\": np.str}"
   ],
   "outputs": [],
   "metadata": {}
  },
  {
   "cell_type": "code",
   "execution_count": 3,
   "source": [
    "# Locals \r\n",
    "dfVAERSDATA_Initialized     = False\r\n",
    "dfVAERSSYMPTOMS_Initialized = False\r\n",
    "dfVAERSVAX_Initialized      = False\r\n",
    "directory = '.\\AllVAERSDataCSVS'\r\n",
    " \r\n",
    "# Iterate over files \r\n",
    "for filename in os.listdir(directory):\r\n",
    "\r\n",
    "    # Create the file name \r\n",
    "    fullFilename = os.path.join(directory, filename)\r\n",
    "\r\n",
    "    # Ensure its a file\r\n",
    "    if os.path.isfile(fullFilename):\r\n",
    "\r\n",
    "        # Print the file name to see where it breaks - if needed \r\n",
    "        # print(fullFilename)\r\n",
    "\r\n",
    "        # Overall\r\n",
    "        if(fullFilename.__contains__(stringVAERSDATA)):\r\n",
    "            \r\n",
    "            # Check if the dataframe has been initialized\r\n",
    "            if(dfVAERSDATA_Initialized == False):\r\n",
    "                \r\n",
    "                # Read in the file to this dataframe directly \r\n",
    "                dfVAERSDATA = pd.read_csv(fullFilename, encoding='cp1252', dtype=dtype_VAERSDATA)\r\n",
    "\r\n",
    "                # Set to init \r\n",
    "                dfVAERSDATA_Initialized = True\r\n",
    "\r\n",
    "            else:\r\n",
    "\r\n",
    "                # Add the new file to the dataframe that has been init'd\r\n",
    "                dfVAERSDATA = pd.concat([dfVAERSDATA, pd.read_csv(fullFilename, encoding='cp1252', dtype=dtype_VAERSDATA)], ignore_index=True)\r\n",
    "            \r\n",
    "        # Symptoms\r\n",
    "        elif(fullFilename.__contains__(stringVAERSSYMPTOMS)):\r\n",
    "            \r\n",
    "            # Check if the dataframe has been initialized\r\n",
    "            if(dfVAERSSYMPTOMS_Initialized == False):\r\n",
    "                \r\n",
    "                # Read in the file to this dataframe directly \r\n",
    "                dfVAERSSYMPTOMS = pd.read_csv(fullFilename, encoding='cp1252')\r\n",
    "\r\n",
    "                # Set to init \r\n",
    "                dfVAERSSYMPTOMS_Initialized = True\r\n",
    "\r\n",
    "            else:\r\n",
    "\r\n",
    "                # Add the new file to the dataframe that has been init'd\r\n",
    "                dfVAERSSYMPTOMS = pd.concat([dfVAERSSYMPTOMS, pd.read_csv(fullFilename, encoding='cp1252')], ignore_index=True)\r\n",
    "\r\n",
    "        # Vax\r\n",
    "        elif(fullFilename.__contains__(stringVAERSVAX)):\r\n",
    "            \r\n",
    "            # Check if the dataframe has been initialized\r\n",
    "            if(dfVAERSVAX_Initialized == False):\r\n",
    "                \r\n",
    "                # Read in the file to this dataframe directly \r\n",
    "                dfVAERSVAX = pd.read_csv(fullFilename, encoding='cp1252')\r\n",
    "\r\n",
    "                # Set to init \r\n",
    "                dfVAERSVAX_Initialized = True\r\n",
    "\r\n",
    "            else:\r\n",
    "\r\n",
    "                # Add the new file to the dataframe that has been init'd\r\n",
    "                dfVAERSVAX = pd.concat([dfVAERSVAX, pd.read_csv(fullFilename, encoding='cp1252')], ignore_index=True)\r\n",
    "        \r\n",
    "\r\n",
    "# Merge the vax with the symptoms tables have duplicates or can \r\n",
    "# have duplicates hence using full outer join. Merging vax and symptoms first.\r\n",
    "completeDataFrame = pd.merge(left = dfVAERSVAX, right = dfVAERSSYMPTOMS, \\\r\n",
    "                      how = \"outer\", left_on = [\"VAERS_ID\"], \\\r\n",
    "                      right_on = [\"VAERS_ID\"])\r\n",
    "\r\n",
    "# Now merge the data frame into the merged frame \r\n",
    "completeDataFrame = pd.merge(left = completeDataFrame, right = dfVAERSDATA, \\\r\n",
    "                      how = \"outer\", left_on = [\"VAERS_ID\"], \\\r\n",
    "                      right_on = [\"VAERS_ID\"])\r\n",
    "\r\n",
    "# Performance notes:\r\n",
    "# Takes about 100 seconds on Dell Precision 752 with Intel(R) Core(TM) i7-6820HQ CPU @ 2.70GHz, 2701 Mhz, 4 Core(s), 8 Logical Processor(s)"
   ],
   "outputs": [
    {
     "output_type": "stream",
     "name": "stderr",
     "text": [
      "D:\\ProgramFiles\\Python\\Anaconda3\\lib\\site-packages\\IPython\\core\\interactiveshell.py:3063: DtypeWarning: Columns (11,13,15,16,27) have mixed types.Specify dtype option on import or set low_memory=False.\n",
      "  interactivity=interactivity, compiler=compiler, result=result)\n",
      "D:\\ProgramFiles\\Python\\Anaconda3\\lib\\site-packages\\IPython\\core\\interactiveshell.py:3063: DtypeWarning: Columns (31) have mixed types.Specify dtype option on import or set low_memory=False.\n",
      "  interactivity=interactivity, compiler=compiler, result=result)\n",
      "D:\\ProgramFiles\\Python\\Anaconda3\\lib\\site-packages\\IPython\\core\\interactiveshell.py:3063: DtypeWarning: Columns (7,15,23,31) have mixed types.Specify dtype option on import or set low_memory=False.\n",
      "  interactivity=interactivity, compiler=compiler, result=result)\n",
      "D:\\ProgramFiles\\Python\\Anaconda3\\lib\\site-packages\\IPython\\core\\interactiveshell.py:3063: DtypeWarning: Columns (7,15,23) have mixed types.Specify dtype option on import or set low_memory=False.\n",
      "  interactivity=interactivity, compiler=compiler, result=result)\n",
      "D:\\ProgramFiles\\Python\\Anaconda3\\lib\\site-packages\\IPython\\core\\interactiveshell.py:3063: DtypeWarning: Columns (7,23,30,31,32,33,34) have mixed types.Specify dtype option on import or set low_memory=False.\n",
      "  interactivity=interactivity, compiler=compiler, result=result)\n"
     ]
    }
   ],
   "metadata": {}
  },
  {
   "cell_type": "code",
   "execution_count": 11,
   "source": [
    "# Make a copy so we can leave the original untouched \r\n",
    "workingVaxFrame = completeDataFrame.copy(deep=True)\r\n",
    "\r\n",
    "# Print the frame out for fun - DO NOT DO THIS CAUSE THE FILE IS WAY TOO BIG \r\n",
    "# workingVaxFrame.to_csv(\"workingVaxFrame.csv\")"
   ],
   "outputs": [],
   "metadata": {}
  },
  {
   "cell_type": "code",
   "execution_count": 21,
   "source": [
    "# Get all the values of the type of vaccine to try and find the covid \r\n",
    "covidFrame = workingVaxFrame[workingVaxFrame[\"VAX_TYPE\"] == \"COVID19\"]\r\n",
    "\r\n",
    "\r\n",
    "\r\n",
    "\r\n",
    "print(covidFrame.VAERS_ID.unique().shape, covidFrame[covidFrame[\"DIED\"] == \"Y\"].VAERS_ID.unique().shape)"
   ],
   "outputs": [
    {
     "output_type": "stream",
     "name": "stdout",
     "text": [
      "(675593,) (14506,)\n"
     ]
    }
   ],
   "metadata": {}
  }
 ],
 "metadata": {
  "kernelspec": {
   "name": "python3",
   "display_name": "Python 3.7.6 64-bit ('base': conda)"
  },
  "language_info": {
   "codemirror_mode": {
    "name": "ipython",
    "version": 3
   },
   "file_extension": ".py",
   "mimetype": "text/x-python",
   "name": "python",
   "nbconvert_exporter": "python",
   "pygments_lexer": "ipython3",
   "version": "3.7.6"
  },
  "interpreter": {
   "hash": "f2c8a1743301a7cb30ab93c7645f660a12583e7420143828028bb939169b181f"
  }
 },
 "nbformat": 4,
 "nbformat_minor": 4
}