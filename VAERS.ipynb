{
 "cells": [
  {
   "cell_type": "code",
   "execution_count": 2,
   "metadata": {},
   "outputs": [],
   "source": [
    "# Imports \n",
    "import numpy as np\n",
    "import pandas as pd\n",
    "import pyodbc as db\n",
    "import matplotlib.pyplot as plt\n",
    "import os\n",
    "%matplotlib inline\n",
    "import requests\n",
    "from requests.auth import HTTPBasicAuth\n",
    "from io import StringIO\n",
    "from sodapy import Socrata\n",
    "from datetime import date\n",
    "import datetime\n",
    "import seaborn as sns\n",
    "import configparser\n",
    "\n",
    "# Constants \n",
    "stringVAERSDATA     = \"VAERSDATA\"\n",
    "stringVAERSSYMPTOMS = \"VAERSSYMPTOMS\"\n",
    "stringVAERSVAX      = \"VAERSVAX\"\n",
    "directory           = '.\\AllVAERSDataCSVS'\n",
    "\n",
    "\n",
    "# C:\\Users\\IDalrymple\\AppData\\Roaming\\Python\\Python37\\Scripts\n",
    "# C:\\Program Files (x86)\\Microsoft Visual Studio\\Shared\\Python37_64"
   ]
  },
  {
   "cell_type": "code",
   "execution_count": 3,
   "metadata": {},
   "outputs": [
    {
     "ename": "KeyError",
     "evalue": "'MFG_API'",
     "output_type": "error",
     "traceback": [
      "\u001b[1;31m---------------------------------------------------------------------------\u001b[0m",
      "\u001b[1;31mKeyError\u001b[0m                                  Traceback (most recent call last)",
      "\u001b[1;32m<ipython-input-3-e7acdba1f9e3>\u001b[0m in \u001b[0;36m<module>\u001b[1;34m\u001b[0m\n\u001b[0;32m     11\u001b[0m \u001b[1;33m\u001b[0m\u001b[0m\n\u001b[0;32m     12\u001b[0m \u001b[1;31m# Now read in the values\u001b[0m\u001b[1;33m\u001b[0m\u001b[1;33m\u001b[0m\u001b[1;33m\u001b[0m\u001b[0m\n\u001b[1;32m---> 13\u001b[1;33m \u001b[0mapiKeyName\u001b[0m      \u001b[1;33m=\u001b[0m \u001b[0moConfig\u001b[0m\u001b[1;33m[\u001b[0m\u001b[1;34m\"MFG_API\"\u001b[0m\u001b[1;33m]\u001b[0m\u001b[1;33m[\u001b[0m\u001b[1;34m\"apiKeyName\"\u001b[0m\u001b[1;33m]\u001b[0m\u001b[1;33m\u001b[0m\u001b[1;33m\u001b[0m\u001b[0m\n\u001b[0m\u001b[0;32m     14\u001b[0m \u001b[0mapiKeyId\u001b[0m        \u001b[1;33m=\u001b[0m \u001b[0moConfig\u001b[0m\u001b[1;33m[\u001b[0m\u001b[1;34m\"MFG_API\"\u001b[0m\u001b[1;33m]\u001b[0m\u001b[1;33m[\u001b[0m\u001b[1;34m\"apiKeyId\"\u001b[0m\u001b[1;33m]\u001b[0m\u001b[1;33m\u001b[0m\u001b[1;33m\u001b[0m\u001b[0m\n\u001b[0;32m     15\u001b[0m \u001b[0mapiSecretApi\u001b[0m    \u001b[1;33m=\u001b[0m \u001b[0moConfig\u001b[0m\u001b[1;33m[\u001b[0m\u001b[1;34m\"MFG_API\"\u001b[0m\u001b[1;33m]\u001b[0m\u001b[1;33m[\u001b[0m\u001b[1;34m\"apiSecretApi\"\u001b[0m\u001b[1;33m]\u001b[0m\u001b[1;33m\u001b[0m\u001b[1;33m\u001b[0m\u001b[0m\n",
      "\u001b[1;32mC:\\ProgramData\\Anaconda3\\lib\\configparser.py\u001b[0m in \u001b[0;36m__getitem__\u001b[1;34m(self, key)\u001b[0m\n\u001b[0;32m    958\u001b[0m     \u001b[1;32mdef\u001b[0m \u001b[0m__getitem__\u001b[0m\u001b[1;33m(\u001b[0m\u001b[0mself\u001b[0m\u001b[1;33m,\u001b[0m \u001b[0mkey\u001b[0m\u001b[1;33m)\u001b[0m\u001b[1;33m:\u001b[0m\u001b[1;33m\u001b[0m\u001b[1;33m\u001b[0m\u001b[0m\n\u001b[0;32m    959\u001b[0m         \u001b[1;32mif\u001b[0m \u001b[0mkey\u001b[0m \u001b[1;33m!=\u001b[0m \u001b[0mself\u001b[0m\u001b[1;33m.\u001b[0m\u001b[0mdefault_section\u001b[0m \u001b[1;32mand\u001b[0m \u001b[1;32mnot\u001b[0m \u001b[0mself\u001b[0m\u001b[1;33m.\u001b[0m\u001b[0mhas_section\u001b[0m\u001b[1;33m(\u001b[0m\u001b[0mkey\u001b[0m\u001b[1;33m)\u001b[0m\u001b[1;33m:\u001b[0m\u001b[1;33m\u001b[0m\u001b[1;33m\u001b[0m\u001b[0m\n\u001b[1;32m--> 960\u001b[1;33m             \u001b[1;32mraise\u001b[0m \u001b[0mKeyError\u001b[0m\u001b[1;33m(\u001b[0m\u001b[0mkey\u001b[0m\u001b[1;33m)\u001b[0m\u001b[1;33m\u001b[0m\u001b[1;33m\u001b[0m\u001b[0m\n\u001b[0m\u001b[0;32m    961\u001b[0m         \u001b[1;32mreturn\u001b[0m \u001b[0mself\u001b[0m\u001b[1;33m.\u001b[0m\u001b[0m_proxies\u001b[0m\u001b[1;33m[\u001b[0m\u001b[0mkey\u001b[0m\u001b[1;33m]\u001b[0m\u001b[1;33m\u001b[0m\u001b[1;33m\u001b[0m\u001b[0m\n\u001b[0;32m    962\u001b[0m \u001b[1;33m\u001b[0m\u001b[0m\n",
      "\u001b[1;31mKeyError\u001b[0m: 'MFG_API'"
     ]
    }
   ],
   "source": [
    "# API values - not being used be here in case we need more detailed MFG data \n",
    "# https://dev.socrata.com/foundry/data.cdc.gov/unsk-b7fc\n",
    "# https://data.cdc.gov/Vaccinations/COVID-19-Vaccinations-in-the-United-States-Jurisdi/unsk-b7fc\n",
    "# https://dev.socrata.com/foundry/data.cdc.gov/unsk-b7fc\n",
    "\n",
    "# Instantiate a config object\n",
    "oConfig = configparser.ConfigParser()\n",
    "\n",
    "# Read in the file \n",
    "oConfig.read('VAERS_CONFIG.ini')\n",
    "\n",
    "# Now read in the values \n",
    "apiKeyName      = oConfig[\"MFG_API\"][\"apiKeyName\"]\n",
    "apiKeyId        = oConfig[\"MFG_API\"][\"apiKeyId\"]\n",
    "apiSecretApi    = oConfig[\"MFG_API\"][\"apiSecretApi\"]\n",
    "apiToken        = oConfig[\"MFG_API\"][\"apiToken\"]\n",
    "apiSecretToken  = oConfig[\"MFG_API\"][\"apiSecretToken\"]"
   ]
  },
  {
   "cell_type": "code",
   "execution_count": 4,
   "metadata": {},
   "outputs": [],
   "source": [
    "# Return age bucket for age passed in \n",
    "def ageRangeFromAge(inAge):\n",
    "\n",
    "    # Check ranges \n",
    "    if(inAge >= 100):\n",
    "        return \"GTE_100\"\n",
    "    elif(inAge >= 90):\n",
    "        return \"90_99\"\n",
    "    elif(inAge >= 80):\n",
    "        return \"80_89\"\n",
    "    elif(inAge >= 70):\n",
    "        return \"70_79\"\n",
    "    elif(inAge >= 60):\n",
    "        return \"60_69\"\n",
    "    elif(inAge >= 50):\n",
    "        return \"50_59\"\n",
    "    elif(inAge >= 40):\n",
    "        return \"40_49\"\n",
    "    elif(inAge >= 30):\n",
    "        return \"30_39\"\n",
    "    elif(inAge >= 20):\n",
    "        return \"20_29\"\n",
    "    elif(inAge >= 10):\n",
    "        return \"10_19\"\n",
    "    elif(inAge >= 0):\n",
    "        return \"0_9\"\n",
    "    else:\n",
    "        return \"UNKNOWN\""
   ]
  },
  {
   "cell_type": "code",
   "execution_count": 5,
   "metadata": {},
   "outputs": [
    {
     "name": "stderr",
     "output_type": "stream",
     "text": [
      "<ipython-input-5-c1df68c082df>:8: DeprecationWarning: `np.object` is a deprecated alias for the builtin `object`. To silence this warning, use `object` by itself. Doing this will not modify any behavior and is safe. \n",
      "Deprecated in NumPy 1.20; for more details and guidance: https://numpy.org/devdocs/release/1.20.0-notes.html#deprecations\n",
      "  dtype_VAERSDATA = {\"VAERS_ID\": np.int64, \"RECVDATE\": np.object, \"STATE\": np.str, \"AGE_YRS\": np.float64, \"CAGE_YR\": np.float64, \"CAGE_MO\": np.float64, \"SEX\": np.str, \"RPT_VDATE\": np.object, \"SYMPTOM_TEXT\": np.str, \"DIED\": np.str, \"DATEDIED\": np.object, \"L_THREAD\": np.str, \"ER_VISIT\": np.str}\n",
      "<ipython-input-5-c1df68c082df>:8: DeprecationWarning: `np.str` is a deprecated alias for the builtin `str`. To silence this warning, use `str` by itself. Doing this will not modify any behavior and is safe. If you specifically wanted the numpy scalar type, use `np.str_` here.\n",
      "Deprecated in NumPy 1.20; for more details and guidance: https://numpy.org/devdocs/release/1.20.0-notes.html#deprecations\n",
      "  dtype_VAERSDATA = {\"VAERS_ID\": np.int64, \"RECVDATE\": np.object, \"STATE\": np.str, \"AGE_YRS\": np.float64, \"CAGE_YR\": np.float64, \"CAGE_MO\": np.float64, \"SEX\": np.str, \"RPT_VDATE\": np.object, \"SYMPTOM_TEXT\": np.str, \"DIED\": np.str, \"DATEDIED\": np.object, \"L_THREAD\": np.str, \"ER_VISIT\": np.str}\n",
      "C:\\ProgramData\\Anaconda3\\lib\\site-packages\\IPython\\core\\interactiveshell.py:3165: DtypeWarning: Columns (11,13,15,16,27) have mixed types.Specify dtype option on import or set low_memory=False.\n",
      "  has_raised = await self.run_ast_nodes(code_ast.body, cell_name,\n",
      "C:\\ProgramData\\Anaconda3\\lib\\site-packages\\IPython\\core\\interactiveshell.py:3165: DtypeWarning: Columns (31) have mixed types.Specify dtype option on import or set low_memory=False.\n",
      "  has_raised = await self.run_ast_nodes(code_ast.body, cell_name,\n",
      "C:\\ProgramData\\Anaconda3\\lib\\site-packages\\IPython\\core\\interactiveshell.py:3165: DtypeWarning: Columns (7,15,23,31) have mixed types.Specify dtype option on import or set low_memory=False.\n",
      "  has_raised = await self.run_ast_nodes(code_ast.body, cell_name,\n",
      "C:\\ProgramData\\Anaconda3\\lib\\site-packages\\IPython\\core\\interactiveshell.py:3165: DtypeWarning: Columns (7,15,23) have mixed types.Specify dtype option on import or set low_memory=False.\n",
      "  has_raised = await self.run_ast_nodes(code_ast.body, cell_name,\n",
      "C:\\ProgramData\\Anaconda3\\lib\\site-packages\\IPython\\core\\interactiveshell.py:3165: DtypeWarning: Columns (7,23,30,31,32,33,34) have mixed types.Specify dtype option on import or set low_memory=False.\n",
      "  has_raised = await self.run_ast_nodes(code_ast.body, cell_name,\n"
     ]
    }
   ],
   "source": [
    "# Locals \n",
    "dfVAERSDATA_Initialized     = False\n",
    "dfVAERSSYMPTOMS_Initialized = False\n",
    "dfVAERSVAX_Initialized      = False\n",
    "\n",
    "# @TODO Column datatypes - need to finish  - getting the following warning when reading in files:\n",
    "# DtypeWarning: Columns (11,13,15,16,27) have mixed types.Specify dtype option on import or set low_memory=False. interactivity=interactivity, compiler=compiler, result=result)\n",
    "dtype_VAERSDATA = {\"VAERS_ID\": np.int64, \"RECVDATE\": np.object, \"STATE\": np.str, \"AGE_YRS\": np.float64, \"CAGE_YR\": np.float64, \"CAGE_MO\": np.float64, \"SEX\": np.str, \"RPT_VDATE\": np.object, \"SYMPTOM_TEXT\": np.str, \"DIED\": np.str, \"DATEDIED\": np.object, \"L_THREAD\": np.str, \"ER_VISIT\": np.str}\n",
    "\n",
    "# Iterate over files \n",
    "for filename in os.listdir(directory):\n",
    "\n",
    "    # Create the file name \n",
    "    fullFilename = os.path.join(directory, filename)\n",
    "\n",
    "    # Ensure its a file\n",
    "    if os.path.isfile(fullFilename):\n",
    "\n",
    "        # Print the file name to see where it breaks - if needed \n",
    "        # print(fullFilename)\n",
    "\n",
    "        # Overall\n",
    "        if(fullFilename.__contains__(stringVAERSDATA)):\n",
    "            \n",
    "            # Check if the dataframe has been initialized\n",
    "            if(dfVAERSDATA_Initialized == False):\n",
    "                \n",
    "                # Read in the file to this dataframe directly \n",
    "                dfVAERSDATA = pd.read_csv(fullFilename, encoding='cp1252', dtype=dtype_VAERSDATA)\n",
    "\n",
    "                # Set to init \n",
    "                dfVAERSDATA_Initialized = True\n",
    "\n",
    "            else:\n",
    "\n",
    "                # Add the new file to the dataframe that has been init'd\n",
    "                dfVAERSDATA = pd.concat([dfVAERSDATA, pd.read_csv(fullFilename, encoding='cp1252', dtype=dtype_VAERSDATA)], ignore_index=True)\n",
    "            \n",
    "        # Symptoms\n",
    "        elif(fullFilename.__contains__(stringVAERSSYMPTOMS)):\n",
    "            \n",
    "            # Check if the dataframe has been initialized\n",
    "            if(dfVAERSSYMPTOMS_Initialized == False):\n",
    "                \n",
    "                # Read in the file to this dataframe directly \n",
    "                dfVAERSSYMPTOMS = pd.read_csv(fullFilename, encoding='cp1252')\n",
    "\n",
    "                # Set to init \n",
    "                dfVAERSSYMPTOMS_Initialized = True\n",
    "\n",
    "            else:\n",
    "\n",
    "                # Add the new file to the dataframe that has been init'd\n",
    "                dfVAERSSYMPTOMS = pd.concat([dfVAERSSYMPTOMS, pd.read_csv(fullFilename, encoding='cp1252')], ignore_index=True)\n",
    "\n",
    "        # Vax\n",
    "        elif(fullFilename.__contains__(stringVAERSVAX)):\n",
    "            \n",
    "            # Check if the dataframe has been initialized\n",
    "            if(dfVAERSVAX_Initialized == False):\n",
    "                \n",
    "                # Read in the file to this dataframe directly \n",
    "                dfVAERSVAX = pd.read_csv(fullFilename, encoding='cp1252')\n",
    "\n",
    "                # Set to init \n",
    "                dfVAERSVAX_Initialized = True\n",
    "\n",
    "            else:\n",
    "\n",
    "                # Add the new file to the dataframe that has been init'd\n",
    "                dfVAERSVAX = pd.concat([dfVAERSVAX, pd.read_csv(fullFilename, encoding='cp1252')], ignore_index=True)\n",
    "        \n",
    "\n",
    "# Merge the vax with the symptoms tables have duplicates or can \n",
    "# have duplicates hence using full outer join. Merging vax and symptoms first.\n",
    "completeDataFrame = pd.merge(left = dfVAERSVAX, right = dfVAERSSYMPTOMS, \\\n",
    "                      how = \"outer\", left_on = [\"VAERS_ID\"], \\\n",
    "                      right_on = [\"VAERS_ID\"])\n",
    "\n",
    "# Now merge the data frame into the merged frame \n",
    "completeDataFrame = pd.merge(left = completeDataFrame, right = dfVAERSDATA, \\\n",
    "                      how = \"outer\", left_on = [\"VAERS_ID\"], \\\n",
    "                      right_on = [\"VAERS_ID\"])\n",
    "\n",
    "# Performance notes:\n",
    "# Takes about 100 seconds on Dell Precision 752 with Intel(R) Core(TM) i7-6820HQ CPU @ 2.70GHz, 2701 Mhz, 4 Core(s), 8 Logical Processor(s)"
   ]
  },
  {
   "cell_type": "code",
   "execution_count": 8,
   "metadata": {},
   "outputs": [],
   "source": [
    "# Fill in the unknowns with negatives for age \n",
    "completeDataFrame[\"AGE_YRS\"] = completeDataFrame[\"AGE_YRS\"].fillna(-1)\n",
    "\n",
    "# Fill in the unknowns with negatives for num days \n",
    "completeDataFrame[\"NUMDAYS\"] = completeDataFrame[\"NUMDAYS\"].fillna(completeDataFrame[\"NUMDAYS\"].mode())\n",
    "\n",
    "# Add a feature for age range \n",
    "completeDataFrame[\"AGE_RANGE\"] = completeDataFrame[\"AGE_YRS\"].apply(ageRangeFromAge)\n",
    "\n",
    "# Make a copy so we can leave the original untouched \n",
    "workingVaxFrame = completeDataFrame.copy(deep=True)\n",
    "\n",
    "# Print the frame out for fun \n",
    "workingVaxFrame[workingVaxFrame[\"VAX_TYPE\"] == \"COVID19\"].head(n=100).to_csv(\"workingVaxFrame.csv\")"
   ]
  },
  {
   "cell_type": "code",
   "execution_count": 9,
   "metadata": {},
   "outputs": [
    {
     "name": "stderr",
     "output_type": "stream",
     "text": [
      "WARNING:root:Requests made without an app_token will be subject to strict throttling limits.\n"
     ]
    },
    {
     "data": {
      "text/plain": [
       "(64, 69)"
      ]
     },
     "execution_count": 9,
     "metadata": {},
     "output_type": "execute_result"
    }
   ],
   "source": [
    "# Taken directly from \n",
    "# https://dev.socrata.com/foundry/data.cdc.gov/unsk-b7fc\n",
    "\n",
    "# Unauthenticated client only works with public data sets. Note 'None'\n",
    "# in place of application token, and no username or password:\n",
    "client = Socrata(\"data.cdc.gov\", None)\n",
    "\n",
    "# First 50000 results, returned as JSON from API / converted to Python list of dictionaries by sodapy.\n",
    "getResults = client.get(\"unsk-b7fc\", limit=50000)\n",
    "\n",
    "# Convert to pandas DataFrame\n",
    "administrationDataFrame = pd.DataFrame.from_records(getResults)\n",
    "\n",
    "# Convert to date time \n",
    "administrationDataFrame[\"date\"] = pd.to_datetime(administrationDataFrame[\"date\"]).dt.date\n",
    "\n",
    "# Make a copy so we can leave the original untouched \n",
    "workingAdministrationDataFrame = administrationDataFrame.copy(deep=True)\n",
    "\n",
    "# Only return the latest date \n",
    "todaysAdministered = workingAdministrationDataFrame[workingAdministrationDataFrame.date == workingAdministrationDataFrame.date.max()]\n",
    "\n",
    "# Print to file \n",
    "administrationDataFrame.to_csv(\"administrationDataFrame.csv\")\n",
    "\n",
    "# Check data is present \n",
    "todaysAdministered.shape\n",
    "\n",
    "# Example authenticated client (needed for non-public datasets):\n",
    "# client = Socrata(data.cdc.gov,\n",
    "#                  MyAppToken,\n",
    "#                  userame=\"user@example.com\",\n",
    "#                  password=\"AFakePassword\")\n",
    "\n",
    "# Alternative method - may be useful later \n",
    "# rawResponse = requests.get('https://data.cdc.gov/resource/unsk-b7fc.csv', auth=HTTPBasicAuth(apiKeyId, apiSecretApi))\n",
    "# stringResponse = StringIO(rawResponse.text)\n",
    "# vaxAdministeredDataFrame = pd.read_csv(stringResponse, sep =\",\")\n",
    "# vaxAdministeredDataFrame.to_csv(\"vaxAdministeredDataFrame.csv\")"
   ]
  },
  {
   "cell_type": "code",
   "execution_count": 10,
   "metadata": {},
   "outputs": [
    {
     "name": "stdout",
     "output_type": "stream",
     "text": [
      "TOTAL DEATHS: 18078\n"
     ]
    },
    {
     "data": {
      "text/plain": [
       "<AxesSubplot:title={'center':'Total Death Count vs. Manufacturer'}>"
      ]
     },
     "execution_count": 10,
     "metadata": {},
     "output_type": "execute_result"
    },
    {
     "data": {
      "image/png": "[encoded data removed]",
      "text/plain": [
       "<Figure size 432x288 with 1 Axes>"
      ]
     },
     "metadata": {
      "needs_background": "light"
     },
     "output_type": "display_data"
    }
   ],
   "source": [
    "# Get all the values of the type of vaccine to try and find the covid \n",
    "covidFrame = workingVaxFrame[workingVaxFrame[\"VAX_TYPE\"] == \"COVID19\"]\n",
    "\n",
    "# Get all the deaths per manufacturer\n",
    "covidDeathsFramePerMfg = (covidFrame[covidFrame[\"DIED\"] == \"Y\"].drop_duplicates(subset=[\"VAERS_ID\"]))[\"VAX_MANU\"].value_counts().to_frame()\n",
    "\n",
    "# Convert to a float \n",
    "covidDeathsFramePerMfg[\"VAX_MANU\"] = covidDeathsFramePerMfg[\"VAX_MANU\"].astype(\"float\")\n",
    "\n",
    "# Show the total events \n",
    "print(\"TOTAL DEATHS:\", covidDeathsFramePerMfg[\"VAX_MANU\"].sum().astype(\"int\"))\n",
    "\n",
    "# Show graphs of deaths per million for each mfg \n",
    "covidDeathsFramePerMfg[\"VAX_MANU\"].plot(kind = \"bar\", title = \"Total Death Count vs. Manufacturer\")"
   ]
  },
  {
   "cell_type": "code",
   "execution_count": 11,
   "metadata": {},
   "outputs": [
    {
     "data": {
      "text/plain": [
       "<AxesSubplot:title={'center':'Deaths per Million vs. Manufacturer'}>"
      ]
     },
     "execution_count": 11,
     "metadata": {},
     "output_type": "execute_result"
    },
    {
     "data": {
      "image/png": "[encoded data removed]",
      "text/plain": [
       "<Figure size 432x288 with 1 Axes>"
      ]
     },
     "metadata": {
      "needs_background": "light"
     },
     "output_type": "display_data"
    }
   ],
   "source": [
    "# Get todays date for us only \n",
    "usAdministered = todaysAdministered[todaysAdministered.location == \"US\"]\n",
    "\n",
    "# Make a copy of the deaths frame \n",
    "localCovidDeathsFramePerMfg = covidDeathsFramePerMfg.copy(deep = True)\n",
    "\n",
    "# Percent deaths \n",
    "localCovidDeathsFramePerMfg.loc[\"PFIZER\\BIONTECH\"].VAX_MANU          = (float)((float)(localCovidDeathsFramePerMfg.loc[\"PFIZER\\BIONTECH\"].VAX_MANU) / (float)(usAdministered[\"administered_pfizer\"])) * 1000000.0\n",
    "localCovidDeathsFramePerMfg.loc[\"MODERNA\"].VAX_MANU                  = (float)((float)(localCovidDeathsFramePerMfg.loc[\"MODERNA\"].VAX_MANU) / (float)(usAdministered[\"administered_moderna\"])) * 1000000.0\n",
    "localCovidDeathsFramePerMfg.loc[\"JANSSEN\"].VAX_MANU                  = (float)((float)(localCovidDeathsFramePerMfg.loc[\"JANSSEN\"].VAX_MANU) / (float)(usAdministered[\"administered_janssen\"])) * 1000000.0\n",
    "localCovidDeathsFramePerMfg.loc[\"UNKNOWN MANUFACTURER\"].VAX_MANU     = (float)((float)(localCovidDeathsFramePerMfg.loc[\"UNKNOWN MANUFACTURER\"].VAX_MANU) / (float)(usAdministered[\"administered_unk_manuf\"])) * 1000000.0\n",
    "\n",
    "# Show graphs of deaths per million for each mfg \n",
    "localCovidDeathsFramePerMfg[\"VAX_MANU\"].plot(kind = \"bar\", title = \"Deaths per Million vs. Manufacturer\")"
   ]
  },
  {
   "cell_type": "code",
   "execution_count": 12,
   "metadata": {},
   "outputs": [
    {
     "name": "stdout",
     "output_type": "stream",
     "text": [
      "TOTAL EVENTS: 856919\n"
     ]
    },
    {
     "data": {
      "image/png": "[encoded data removed]",
      "text/plain": [
       "<Figure size 432x288 with 1 Axes>"
      ]
     },
     "metadata": {
      "needs_background": "light"
     },
     "output_type": "display_data"
    }
   ],
   "source": [
    "# Get all the events per manufacturer\n",
    "covidEventsFramePerMfg = (covidFrame.drop_duplicates(subset=[\"VAERS_ID\"]))[\"VAX_MANU\"].value_counts().to_frame()\n",
    "\n",
    "# Convert to a float \n",
    "covidEventsFramePerMfg[\"VAX_MANU\"] = covidEventsFramePerMfg[\"VAX_MANU\"].astype(\"float\")\n",
    "\n",
    "# Show graphs of deaths per million for each mfg \n",
    "covidEventsFramePerMfg[\"VAX_MANU\"].plot(kind = \"bar\", title = \"Total Event Count vs. Manufacturer\")\n",
    "\n",
    "# Show the total events \n",
    "print(\"TOTAL EVENTS:\", covidEventsFramePerMfg[\"VAX_MANU\"].sum().astype(\"int\"))"
   ]
  },
  {
   "cell_type": "code",
   "execution_count": 13,
   "metadata": {},
   "outputs": [
    {
     "data": {
      "text/plain": [
       "<AxesSubplot:title={'center':'Events per Million vs. Manufacturer'}>"
      ]
     },
     "execution_count": 13,
     "metadata": {},
     "output_type": "execute_result"
    },
    {
     "data": {
      "image/png": "[encoded data removed]",
      "text/plain": [
       "<Figure size 432x288 with 1 Axes>"
      ]
     },
     "metadata": {
      "needs_background": "light"
     },
     "output_type": "display_data"
    }
   ],
   "source": [
    "# Make a copy of the deaths frame \n",
    "localCovidEventsFramePerMfg = covidEventsFramePerMfg.copy(deep = True)\n",
    "\n",
    "# Percent deaths \n",
    "localCovidEventsFramePerMfg.loc[\"PFIZER\\BIONTECH\"].VAX_MANU          = (float)((float)(localCovidEventsFramePerMfg.loc[\"PFIZER\\BIONTECH\"].VAX_MANU) / (float)(usAdministered[\"administered_pfizer\"])) * 1000000.0\n",
    "localCovidEventsFramePerMfg.loc[\"MODERNA\"].VAX_MANU                  = (float)((float)(localCovidEventsFramePerMfg.loc[\"MODERNA\"].VAX_MANU) / (float)(usAdministered[\"administered_moderna\"])) * 1000000.0\n",
    "localCovidEventsFramePerMfg.loc[\"JANSSEN\"].VAX_MANU                  = (float)((float)(localCovidEventsFramePerMfg.loc[\"JANSSEN\"].VAX_MANU) / (float)(usAdministered[\"administered_janssen\"])) * 1000000.0\n",
    "localCovidEventsFramePerMfg.loc[\"UNKNOWN MANUFACTURER\"].VAX_MANU     = (float)((float)(localCovidEventsFramePerMfg.loc[\"UNKNOWN MANUFACTURER\"].VAX_MANU) / (float)(usAdministered[\"administered_unk_manuf\"])) * 1000000.0\n",
    "\n",
    "# Show graphs of deaths per million for each mfg \n",
    "localCovidEventsFramePerMfg[\"VAX_MANU\"].plot(kind = \"bar\", title = \"Events per Million vs. Manufacturer\")"
   ]
  },
  {
   "cell_type": "code",
   "execution_count": 14,
   "metadata": {},
   "outputs": [
    {
     "data": {
      "text/plain": [
       "<AxesSubplot:title={'center':'Deaths per Million vs. Manufacturer / Age Group'}, xlabel='AGE_RANGE'>"
      ]
     },
     "execution_count": 14,
     "metadata": {},
     "output_type": "execute_result"
    },
    {
     "data": {
      "image/png": "[encoded data removed]",
      "text/plain": [
       "<Figure size 432x288 with 1 Axes>"
      ]
     },
     "metadata": {
      "needs_background": "light"
     },
     "output_type": "display_data"
    }
   ],
   "source": [
    "# Get just the deaths removing dupes\n",
    "covidDeathsFramePerMfgAndAge = (covidFrame[covidFrame[\"DIED\"] == \"Y\"].drop_duplicates(subset=[\"VAERS_ID\"]))\n",
    "\n",
    "# Now group by the age and manufacturer \n",
    "covidDeathsFramePerMfgAndAge = covidDeathsFramePerMfgAndAge.groupby(['VAX_MANU','AGE_RANGE'])[\"VAERS_ID\"].count().reset_index()\n",
    "\n",
    "# Rename the agg column \n",
    "covidDeathsFramePerMfgAndAge.rename(columns = {'VAERS_ID':'COUNT_DEATHS'}, inplace = True)\n",
    "\n",
    "# Create indices out of the two id columns \n",
    "#covidDeathsFramePerMfgAndAge = covidDeathsFramePerMfgAndAge.set_index(['VAX_MANU','AGE_RANGE'])\n",
    "covidDeathsFramePerMfgAndAge = covidDeathsFramePerMfgAndAge.set_index(['AGE_RANGE'])\n",
    "\n",
    "# Show graphs of deaths per million for each mfg \n",
    "covidDeathsFramePerMfgAndAge.plot(kind = \"bar\", title = \"Deaths per Million vs. Manufacturer / Age Group\")"
   ]
  },
  {
   "cell_type": "code",
   "execution_count": 19,
   "metadata": {},
   "outputs": [],
   "source": [
    "# Get all the values of the type of vaccine to try and find the covid \n",
    "covidDeathsFrame = workingVaxFrame[workingVaxFrame[\"VAX_TYPE\"] == \"COVID19\"]\n",
    "\n",
    "# Get all the deaths\n",
    "covidDeathsFrame = covidFrame[covidFrame[\"DIED\"] == \"Y\"].drop_duplicates(subset=[\"VAERS_ID\"])\n",
    "\n",
    "# Now group by the age and manufacturer \n",
    "covidDeathsFramePerMfgAndLot = covidDeathsFrame.groupby(['VAX_MANU','VAX_LOT'])[\"VAERS_ID\"].count().reset_index()\n",
    "\n",
    "\n",
    "covidDeathsFramePerMfgAndLot.to_csv(\"LOTS.csv\")"
   ]
  },
  {
   "cell_type": "code",
   "execution_count": 22,
   "metadata": {},
   "outputs": [],
   "source": [
    "covidDeathsFramePerMfgAndLot.to_csv(\"LOTS.csv\")"
   ]
  },
  {
   "cell_type": "markdown",
   "metadata": {},
   "source": [
    "BELOW THIS LINE IS ALL DEVELOPMENTAL "
   ]
  },
  {
   "cell_type": "code",
   "execution_count": 21,
   "metadata": {},
   "outputs": [
    {
     "data": {
      "text/plain": [
       "<bound method DataFrame.info of                   VAX_MANU          VAX_LOT  VAERS_ID\n",
       "0                  JANSSEN          038C21A         1\n",
       "1                  JANSSEN          041A21A        12\n",
       "2                  JANSSEN          041A21a         1\n",
       "3                  JANSSEN           042A21         1\n",
       "4                  JANSSEN          042A21A        33\n",
       "...                    ...              ...       ...\n",
       "1774  UNKNOWN MANUFACTURER  COVID Vaccine -         1\n",
       "1775  UNKNOWN MANUFACTURER           EN6201         1\n",
       "1776  UNKNOWN MANUFACTURER           UNSURE         1\n",
       "1777  UNKNOWN MANUFACTURER          Unknown         1\n",
       "1778  UNKNOWN MANUFACTURER          unknown         2\n",
       "\n",
       "[1779 rows x 3 columns]>"
      ]
     },
     "execution_count": 21,
     "metadata": {},
     "output_type": "execute_result"
    }
   ],
   "source": [
    "covidDeathsFramePerMfgAndLot.info"
   ]
  }
 ],
 "metadata": {
  "interpreter": {
   "hash": "f2c8a1743301a7cb30ab93c7645f660a12583e7420143828028bb939169b181f"
  },
  "kernelspec": {
   "display_name": "Python 3.7.6 64-bit ('base': conda)",
   "name": "python3"
  },
  "language_info": {
   "codemirror_mode": {
    "name": "ipython",
    "version": 3
   },
   "file_extension": ".py",
   "mimetype": "text/x-python",
   "name": "python",
   "nbconvert_exporter": "python",
   "pygments_lexer": "ipython3",
   "version": "3.8.8"
  }
 },
 "nbformat": 4,
 "nbformat_minor": 4
}
