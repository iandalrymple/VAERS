{
 "cells": [
  {
   "cell_type": "code",
   "execution_count": 1,
   "metadata": {},
   "outputs": [],
   "source": [
    "# Imports \n",
    "import numpy as np\n",
    "import pandas as pd\n",
    "import pyodbc as db\n",
    "import matplotlib.pyplot as plt\n",
    "import os\n",
    "%matplotlib inline\n",
    "import requests\n",
    "from requests.auth import HTTPBasicAuth\n",
    "from io import StringIO\n",
    "from sodapy import Socrata\n",
    "from datetime import date\n",
    "import datetime\n",
    "import seaborn as sns\n",
    "\n",
    "# Constants \n",
    "stringVAERSDATA     = \"VAERSDATA\"\n",
    "stringVAERSSYMPTOMS = \"VAERSSYMPTOMS\"\n",
    "stringVAERSVAX      = \"VAERSVAX\"\n",
    "\n",
    "# API values \n",
    "# https://dev.socrata.com/foundry/data.cdc.gov/unsk-b7fc\n",
    "# https://data.cdc.gov/Vaccinations/COVID-19-Vaccinations-in-the-United-States-Jurisdi/unsk-b7fc\n",
    "# https://dev.socrata.com/foundry/data.cdc.gov/unsk-b7fc\n",
    "apiKeyName      = \"IAN_VAERS\"\n",
    "apiKeyId        = \"b4nhr0ojmr7cq4envv3a8ofc5\"\n",
    "apiSecretApi    = \"3ry6vfrzt53fl7p0kn8ir8hdnq70aeclapu5abnar08r8fbz5d\"\n",
    "apiToken        = \"jDHbO06h1r193Y7NHHlbNWVfW\"\n",
    "apiSecretToken  = \"9BZJSPTkndWKvJWBZp-mVIHK8X3yVrk9gBND\"\n",
    "\n",
    "# Column datatypes - need to finish @TODO - getting the following warning when reading in files:\n",
    "# DtypeWarning: Columns (11,13,15,16,27) have mixed types.Specify dtype option on import or set low_memory=False. interactivity=interactivity, compiler=compiler, result=result)\n",
    "dtype_VAERSDATA = {\"VAERS_ID\": np.int64, \"RECVDATE\": np.object, \"STATE\": np.str, \"AGE_YRS\": np.float64, \"CAGE_YR\": np.float64, \"CAGE_MO\": np.float64, \"SEX\": np.str, \"RPT_VDATE\": np.object, \"SYMPTOM_TEXT\": np.str, \"DIED\": np.str, \"DATEDIED\": np.object, \"L_THREAD\": np.str, \"ER_VISIT\": np.str}"
   ]
  },
  {
   "cell_type": "code",
   "execution_count": 2,
   "metadata": {},
   "outputs": [],
   "source": [
    "# Return age bucket for age passed in \n",
    "def ageRangeFromAge(inAge):\n",
    "\n",
    "    # Check ranges \n",
    "    if(inAge >= 100):\n",
    "        return \"GTE_100\"\n",
    "    elif(inAge >= 90):\n",
    "        return \"90_99\"\n",
    "    elif(inAge >= 80):\n",
    "        return \"80_89\"\n",
    "    elif(inAge >= 70):\n",
    "        return \"70_79\"\n",
    "    elif(inAge >= 60):\n",
    "        return \"60_69\"\n",
    "    elif(inAge >= 50):\n",
    "        return \"50_59\"\n",
    "    elif(inAge >= 40):\n",
    "        return \"40_49\"\n",
    "    elif(inAge >= 30):\n",
    "        return \"30_39\"\n",
    "    elif(inAge >= 20):\n",
    "        return \"20_29\"\n",
    "    elif(inAge >= 10):\n",
    "        return \"10_19\"\n",
    "    elif(inAge >= 0):\n",
    "        return \"0_9\"\n",
    "    else:\n",
    "        return \"UNKNOWN\""
   ]
  },
  {
   "cell_type": "code",
   "execution_count": 3,
   "metadata": {},
   "outputs": [
    {
     "name": "stderr",
     "output_type": "stream",
     "text": [
      "D:\\ProgramFiles\\Python\\Anaconda3\\lib\\site-packages\\IPython\\core\\interactiveshell.py:3063: DtypeWarning: Columns (11,13,15,16,27) have mixed types.Specify dtype option on import or set low_memory=False.\n",
      "  interactivity=interactivity, compiler=compiler, result=result)\n",
      "D:\\ProgramFiles\\Python\\Anaconda3\\lib\\site-packages\\IPython\\core\\interactiveshell.py:3063: DtypeWarning: Columns (31) have mixed types.Specify dtype option on import or set low_memory=False.\n",
      "  interactivity=interactivity, compiler=compiler, result=result)\n",
      "D:\\ProgramFiles\\Python\\Anaconda3\\lib\\site-packages\\IPython\\core\\interactiveshell.py:3063: DtypeWarning: Columns (7,15,23,31) have mixed types.Specify dtype option on import or set low_memory=False.\n",
      "  interactivity=interactivity, compiler=compiler, result=result)\n",
      "D:\\ProgramFiles\\Python\\Anaconda3\\lib\\site-packages\\IPython\\core\\interactiveshell.py:3063: DtypeWarning: Columns (7,15,23) have mixed types.Specify dtype option on import or set low_memory=False.\n",
      "  interactivity=interactivity, compiler=compiler, result=result)\n",
      "D:\\ProgramFiles\\Python\\Anaconda3\\lib\\site-packages\\IPython\\core\\interactiveshell.py:3063: DtypeWarning: Columns (7,23,30,31,32,33,34) have mixed types.Specify dtype option on import or set low_memory=False.\n",
      "  interactivity=interactivity, compiler=compiler, result=result)\n"
     ]
    }
   ],
   "source": [
    "# Locals \n",
    "dfVAERSDATA_Initialized     = False\n",
    "dfVAERSSYMPTOMS_Initialized = False\n",
    "dfVAERSVAX_Initialized      = False\n",
    "directory = '.\\AllVAERSDataCSVS'\n",
    " \n",
    "# Iterate over files \n",
    "for filename in os.listdir(directory):\n",
    "\n",
    "    # Create the file name \n",
    "    fullFilename = os.path.join(directory, filename)\n",
    "\n",
    "    # Ensure its a file\n",
    "    if os.path.isfile(fullFilename):\n",
    "\n",
    "        # Print the file name to see where it breaks - if needed \n",
    "        # print(fullFilename)\n",
    "\n",
    "        # Overall\n",
    "        if(fullFilename.__contains__(stringVAERSDATA)):\n",
    "            \n",
    "            # Check if the dataframe has been initialized\n",
    "            if(dfVAERSDATA_Initialized == False):\n",
    "                \n",
    "                # Read in the file to this dataframe directly \n",
    "                dfVAERSDATA = pd.read_csv(fullFilename, encoding='cp1252', dtype=dtype_VAERSDATA)\n",
    "\n",
    "                # Set to init \n",
    "                dfVAERSDATA_Initialized = True\n",
    "\n",
    "            else:\n",
    "\n",
    "                # Add the new file to the dataframe that has been init'd\n",
    "                dfVAERSDATA = pd.concat([dfVAERSDATA, pd.read_csv(fullFilename, encoding='cp1252', dtype=dtype_VAERSDATA)], ignore_index=True)\n",
    "            \n",
    "        # Symptoms\n",
    "        elif(fullFilename.__contains__(stringVAERSSYMPTOMS)):\n",
    "            \n",
    "            # Check if the dataframe has been initialized\n",
    "            if(dfVAERSSYMPTOMS_Initialized == False):\n",
    "                \n",
    "                # Read in the file to this dataframe directly \n",
    "                dfVAERSSYMPTOMS = pd.read_csv(fullFilename, encoding='cp1252')\n",
    "\n",
    "                # Set to init \n",
    "                dfVAERSSYMPTOMS_Initialized = True\n",
    "\n",
    "            else:\n",
    "\n",
    "                # Add the new file to the dataframe that has been init'd\n",
    "                dfVAERSSYMPTOMS = pd.concat([dfVAERSSYMPTOMS, pd.read_csv(fullFilename, encoding='cp1252')], ignore_index=True)\n",
    "\n",
    "        # Vax\n",
    "        elif(fullFilename.__contains__(stringVAERSVAX)):\n",
    "            \n",
    "            # Check if the dataframe has been initialized\n",
    "            if(dfVAERSVAX_Initialized == False):\n",
    "                \n",
    "                # Read in the file to this dataframe directly \n",
    "                dfVAERSVAX = pd.read_csv(fullFilename, encoding='cp1252')\n",
    "\n",
    "                # Set to init \n",
    "                dfVAERSVAX_Initialized = True\n",
    "\n",
    "            else:\n",
    "\n",
    "                # Add the new file to the dataframe that has been init'd\n",
    "                dfVAERSVAX = pd.concat([dfVAERSVAX, pd.read_csv(fullFilename, encoding='cp1252')], ignore_index=True)\n",
    "        \n",
    "\n",
    "# Merge the vax with the symptoms tables have duplicates or can \n",
    "# have duplicates hence using full outer join. Merging vax and symptoms first.\n",
    "completeDataFrame = pd.merge(left = dfVAERSVAX, right = dfVAERSSYMPTOMS, \\\n",
    "                      how = \"outer\", left_on = [\"VAERS_ID\"], \\\n",
    "                      right_on = [\"VAERS_ID\"])\n",
    "\n",
    "# Now merge the data frame into the merged frame \n",
    "completeDataFrame = pd.merge(left = completeDataFrame, right = dfVAERSDATA, \\\n",
    "                      how = \"outer\", left_on = [\"VAERS_ID\"], \\\n",
    "                      right_on = [\"VAERS_ID\"])\n",
    "\n",
    "# Performance notes:\n",
    "# Takes about 100 seconds on Dell Precision 752 with Intel(R) Core(TM) i7-6820HQ CPU @ 2.70GHz, 2701 Mhz, 4 Core(s), 8 Logical Processor(s)"
   ]
  },
  {
   "cell_type": "code",
   "execution_count": 26,
   "metadata": {},
   "outputs": [],
   "source": [
    "# Fill in the unknowns with negatives for age \n",
    "completeDataFrame[\"AGE_YRS\"] = completeDataFrame[\"AGE_YRS\"].fillna(-1)\n",
    "\n",
    "# Fill in the unknowns with negatives for num days \n",
    "completeDataFrame[\"NUMDAYS\"] = completeDataFrame[\"NUMDAYS\"].fillna(completeDataFrame[\"NUMDAYS\"].mode())\n",
    "\n",
    "# Add a feature for age range \n",
    "completeDataFrame[\"AGE_RANGE\"] = completeDataFrame[\"AGE_YRS\"].apply(ageRangeFromAge)\n",
    "\n",
    "# Make a copy so we can leave the original untouched \n",
    "workingVaxFrame = completeDataFrame.copy(deep=True)\n",
    "\n",
    "# Print the frame out for fun \n",
    "workingVaxFrame[workingVaxFrame[\"VAX_TYPE\"] == \"COVID19\"].head(n=100).to_csv(\"workingVaxFrame.csv\")"
   ]
  },
  {
   "cell_type": "code",
   "execution_count": 5,
   "metadata": {},
   "outputs": [
    {
     "name": "stderr",
     "output_type": "stream",
     "text": [
      "WARNING:root:Requests made without an app_token will be subject to strict throttling limits.\n"
     ]
    },
    {
     "data": {
      "text/plain": [
       "(64, 69)"
      ]
     },
     "execution_count": 5,
     "metadata": {},
     "output_type": "execute_result"
    }
   ],
   "source": [
    "# Taken directly from \n",
    "# https://dev.socrata.com/foundry/data.cdc.gov/unsk-b7fc\n",
    "\n",
    "# Unauthenticated client only works with public data sets. Note 'None'\n",
    "# in place of application token, and no username or password:\n",
    "client = Socrata(\"data.cdc.gov\", None)\n",
    "\n",
    "# Example authenticated client (needed for non-public datasets):\n",
    "# client = Socrata(data.cdc.gov,\n",
    "#                  MyAppToken,\n",
    "#                  userame=\"user@example.com\",\n",
    "#                  password=\"AFakePassword\")\n",
    "\n",
    "# First 50000 results, returned as JSON from API / converted to Python list of dictionaries by sodapy.\n",
    "getResults = client.get(\"unsk-b7fc\", limit=50000)\n",
    "\n",
    "# Convert to pandas DataFrame\n",
    "administrationDataFrame = pd.DataFrame.from_records(getResults)\n",
    "\n",
    "# Convert to date time \n",
    "administrationDataFrame[\"date\"] = pd.to_datetime(administrationDataFrame[\"date\"]).dt.date\n",
    "\n",
    "# Print to file \n",
    "administrationDataFrame.to_csv(\"administrationDataFrame.csv\")\n",
    "\n",
    "# Alternative method - may be useful later \n",
    "# rawResponse = requests.get('https://data.cdc.gov/resource/unsk-b7fc.csv', auth=HTTPBasicAuth(apiKeyId, apiSecretApi))\n",
    "# stringResponse = StringIO(rawResponse.text)\n",
    "# vaxAdministeredDataFrame = pd.read_csv(stringResponse, sep =\",\")\n",
    "# vaxAdministeredDataFrame.to_csv(\"vaxAdministeredDataFrame.csv\")\n",
    "\n",
    "# Make a copy so we can leave the original untouched \n",
    "workingAdministrationDataFrame = administrationDataFrame.copy(deep=True)\n",
    "\n",
    "# Only return the latest date \n",
    "todaysAdministered = workingAdministrationDataFrame[workingAdministrationDataFrame.date == workingAdministrationDataFrame.date.max()]\n",
    "\n",
    "# Check data is present \n",
    "todaysAdministered.shape"
   ]
  },
  {
   "cell_type": "code",
   "execution_count": 27,
   "metadata": {},
   "outputs": [
    {
     "name": "stdout",
     "output_type": "stream",
     "text": [
      "TOTAL DEATHS: 15366\n"
     ]
    },
    {
     "data": {
      "text/plain": [
       "<matplotlib.axes._subplots.AxesSubplot at 0x19b03f74e08>"
      ]
     },
     "execution_count": 27,
     "metadata": {},
     "output_type": "execute_result"
    },
    {
     "data": {
      "image/png": "[encoded data removed]",
      "text/plain": [
       "<Figure size 432x288 with 1 Axes>"
      ]
     },
     "metadata": {
      "needs_background": "light"
     },
     "output_type": "display_data"
    }
   ],
   "source": [
    "# Get all the values of the type of vaccine to try and find the covid \n",
    "covidFrame = workingVaxFrame[workingVaxFrame[\"VAX_TYPE\"] == \"COVID19\"]\n",
    "\n",
    "# Get all the deaths per manufacturer\n",
    "covidDeathsFramePerMfg = (covidFrame[covidFrame[\"DIED\"] == \"Y\"].drop_duplicates(subset=[\"VAERS_ID\"]))[\"VAX_MANU\"].value_counts().to_frame()\n",
    "\n",
    "# Convert to a float \n",
    "covidDeathsFramePerMfg[\"VAX_MANU\"] = covidDeathsFramePerMfg[\"VAX_MANU\"].astype(\"float\")\n",
    "\n",
    "# Show the total events \n",
    "print(\"TOTAL DEATHS:\", covidDeathsFramePerMfg[\"VAX_MANU\"].sum().astype(\"int\"))\n",
    "\n",
    "# Show graphs of deaths per million for each mfg \n",
    "covidDeathsFramePerMfg[\"VAX_MANU\"].plot(kind = \"bar\", title = \"Total Death Count vs. Manufacturer\")"
   ]
  },
  {
   "cell_type": "code",
   "execution_count": 28,
   "metadata": {},
   "outputs": [
    {
     "data": {
      "text/plain": [
       "<matplotlib.axes._subplots.AxesSubplot at 0x19b028b7588>"
      ]
     },
     "execution_count": 28,
     "metadata": {},
     "output_type": "execute_result"
    },
    {
     "data": {
      "image/png": "[encoded data removed]",
      "text/plain": [
       "<Figure size 432x288 with 1 Axes>"
      ]
     },
     "metadata": {
      "needs_background": "light"
     },
     "output_type": "display_data"
    }
   ],
   "source": [
    "# Get todays date for us only \n",
    "usAdministered = todaysAdministered[todaysAdministered.location == \"US\"]\n",
    "\n",
    "# Make a copy of the deaths frame \n",
    "localCovidDeathsFramePerMfg = covidDeathsFramePerMfg.copy(deep = True)\n",
    "\n",
    "# Percent deaths \n",
    "localCovidDeathsFramePerMfg.loc[\"PFIZER\\BIONTECH\"].VAX_MANU          = (float)((float)(localCovidDeathsFramePerMfg.loc[\"PFIZER\\BIONTECH\"].VAX_MANU) / (float)(usAdministered[\"administered_pfizer\"])) * 1000000.0\n",
    "localCovidDeathsFramePerMfg.loc[\"MODERNA\"].VAX_MANU                  = (float)((float)(localCovidDeathsFramePerMfg.loc[\"MODERNA\"].VAX_MANU) / (float)(usAdministered[\"administered_moderna\"])) * 1000000.0\n",
    "localCovidDeathsFramePerMfg.loc[\"JANSSEN\"].VAX_MANU                  = (float)((float)(localCovidDeathsFramePerMfg.loc[\"JANSSEN\"].VAX_MANU) / (float)(usAdministered[\"administered_janssen\"])) * 1000000.0\n",
    "localCovidDeathsFramePerMfg.loc[\"UNKNOWN MANUFACTURER\"].VAX_MANU     = (float)((float)(localCovidDeathsFramePerMfg.loc[\"UNKNOWN MANUFACTURER\"].VAX_MANU) / (float)(usAdministered[\"administered_unk_manuf\"])) * 1000000.0\n",
    "\n",
    "# Show graphs of deaths per million for each mfg \n",
    "localCovidDeathsFramePerMfg[\"VAX_MANU\"].plot(kind = \"bar\", title = \"Deaths per Million vs. Manufacturer\")"
   ]
  },
  {
   "cell_type": "code",
   "execution_count": 29,
   "metadata": {},
   "outputs": [
    {
     "name": "stdout",
     "output_type": "stream",
     "text": [
      "TOTAL EVENTS: 729837\n"
     ]
    },
    {
     "data": {
      "image/png": "[encoded data removed]",
      "text/plain": [
       "<Figure size 432x288 with 1 Axes>"
      ]
     },
     "metadata": {
      "needs_background": "light"
     },
     "output_type": "display_data"
    }
   ],
   "source": [
    "# Get all the events per manufacturer\n",
    "covidEventsFramePerMfg = (covidFrame.drop_duplicates(subset=[\"VAERS_ID\"]))[\"VAX_MANU\"].value_counts().to_frame()\n",
    "\n",
    "# Convert to a float \n",
    "covidEventsFramePerMfg[\"VAX_MANU\"] = covidEventsFramePerMfg[\"VAX_MANU\"].astype(\"float\")\n",
    "\n",
    "# Show graphs of deaths per million for each mfg \n",
    "covidEventsFramePerMfg[\"VAX_MANU\"].plot(kind = \"bar\", title = \"Total Event Count vs. Manufacturer\")\n",
    "\n",
    "# Show the total events \n",
    "print(\"TOTAL EVENTS:\", covidEventsFramePerMfg[\"VAX_MANU\"].sum().astype(\"int\"))"
   ]
  },
  {
   "cell_type": "code",
   "execution_count": 30,
   "metadata": {},
   "outputs": [
    {
     "data": {
      "text/plain": [
       "<matplotlib.axes._subplots.AxesSubplot at 0x19b0402d348>"
      ]
     },
     "execution_count": 30,
     "metadata": {},
     "output_type": "execute_result"
    },
    {
     "data": {
      "image/png": "[encoded data removed]",
      "text/plain": [
       "<Figure size 432x288 with 1 Axes>"
      ]
     },
     "metadata": {
      "needs_background": "light"
     },
     "output_type": "display_data"
    }
   ],
   "source": [
    "# Make a copy of the deaths frame \n",
    "localCovidEventsFramePerMfg = covidEventsFramePerMfg.copy(deep = True)\n",
    "\n",
    "# Percent deaths \n",
    "localCovidEventsFramePerMfg.loc[\"PFIZER\\BIONTECH\"].VAX_MANU          = (float)((float)(localCovidEventsFramePerMfg.loc[\"PFIZER\\BIONTECH\"].VAX_MANU) / (float)(usAdministered[\"administered_pfizer\"])) * 1000000.0\n",
    "localCovidEventsFramePerMfg.loc[\"MODERNA\"].VAX_MANU                  = (float)((float)(localCovidEventsFramePerMfg.loc[\"MODERNA\"].VAX_MANU) / (float)(usAdministered[\"administered_moderna\"])) * 1000000.0\n",
    "localCovidEventsFramePerMfg.loc[\"JANSSEN\"].VAX_MANU                  = (float)((float)(localCovidEventsFramePerMfg.loc[\"JANSSEN\"].VAX_MANU) / (float)(usAdministered[\"administered_janssen\"])) * 1000000.0\n",
    "localCovidEventsFramePerMfg.loc[\"UNKNOWN MANUFACTURER\"].VAX_MANU     = (float)((float)(localCovidEventsFramePerMfg.loc[\"UNKNOWN MANUFACTURER\"].VAX_MANU) / (float)(usAdministered[\"administered_unk_manuf\"])) * 1000000.0\n",
    "\n",
    "# Show graphs of deaths per million for each mfg \n",
    "localCovidEventsFramePerMfg[\"VAX_MANU\"].plot(kind = \"bar\", title = \"Events per Million vs. Manufacturer\")"
   ]
  },
  {
   "cell_type": "code",
   "execution_count": 31,
   "metadata": {},
   "outputs": [
    {
     "data": {
      "text/plain": [
       "<matplotlib.axes._subplots.AxesSubplot at 0x19b0407fe88>"
      ]
     },
     "execution_count": 31,
     "metadata": {},
     "output_type": "execute_result"
    },
    {
     "data": {
      "image/png": "[encoded data removed]",
      "text/plain": [
       "<Figure size 432x288 with 1 Axes>"
      ]
     },
     "metadata": {
      "needs_background": "light"
     },
     "output_type": "display_data"
    }
   ],
   "source": [
    "# Get just the deaths removing dupes\n",
    "covidDeathsFramePerMfgAndAge = (covidFrame[covidFrame[\"DIED\"] == \"Y\"].drop_duplicates(subset=[\"VAERS_ID\"]))\n",
    "\n",
    "# Now group by the age and manufacturer \n",
    "covidDeathsFramePerMfgAndAge = covidDeathsFramePerMfgAndAge.groupby(['VAX_MANU','AGE_RANGE'])[\"VAERS_ID\"].count().reset_index()\n",
    "\n",
    "# Rename the agg column \n",
    "covidDeathsFramePerMfgAndAge.rename(columns = {'VAERS_ID':'COUNT_DEATHS'}, inplace = True)\n",
    "\n",
    "# Create indices out of the two id columns \n",
    "#covidDeathsFramePerMfgAndAge = covidDeathsFramePerMfgAndAge.set_index(['VAX_MANU','AGE_RANGE'])\n",
    "covidDeathsFramePerMfgAndAge = covidDeathsFramePerMfgAndAge.set_index(['AGE_RANGE'])\n",
    "\n",
    "# Show graphs of deaths per million for each mfg \n",
    "covidDeathsFramePerMfgAndAge.plot(kind = \"bar\", title = \"Deaths per Million vs. Manufacturer / Age Group\")"
   ]
  },
  {
   "cell_type": "code",
   "execution_count": 36,
   "metadata": {},
   "outputs": [],
   "source": [
    "# Get all the values of the type of vaccine to try and find the covid \n",
    "covidDeathsFrame = workingVaxFrame[workingVaxFrame[\"VAX_TYPE\"] == \"COVID19\"]\n",
    "\n",
    "# Get all the deaths\n",
    "covidDeathsFrame = covidFrame[covidFrame[\"DIED\"] == \"Y\"].drop_duplicates(subset=[\"VAERS_ID\"])\n",
    "covidDeathsFrame.to_csv(\"covidDeathsFrame.csv\")\n",
    "#covidDeathsFrame.boxplot(column=[\"NUMDAYS\"])"
   ]
  },
  {
   "cell_type": "markdown",
   "metadata": {},
   "source": [
    "BELOW THIS LINE IS ALL DEVELOPMENTAL "
   ]
  },
  {
   "cell_type": "code",
   "execution_count": 11,
   "metadata": {},
   "outputs": [
    {
     "name": "stdout",
     "output_type": "stream",
     "text": [
      "<class 'pandas.core.frame.DataFrame'>\n",
      "Int64Index: 64 entries, 0 to 63\n",
      "Data columns (total 69 columns):\n",
      " #   Column                           Non-Null Count  Dtype \n",
      "---  ------                           --------------  ----- \n",
      " 0   date                             64 non-null     object\n",
      " 1   mmwr_week                        64 non-null     object\n",
      " 2   location                         64 non-null     object\n",
      " 3   distributed                      64 non-null     object\n",
      " 4   distributed_janssen              64 non-null     object\n",
      " 5   distributed_moderna              64 non-null     object\n",
      " 6   distributed_pfizer               64 non-null     object\n",
      " 7   distributed_unk_manuf            64 non-null     object\n",
      " 8   dist_per_100k                    64 non-null     object\n",
      " 9   distributed_per_100k_12plus      64 non-null     object\n",
      " 10  distributed_per_100k_18plus      64 non-null     object\n",
      " 11  distributed_per_100k_65plus      64 non-null     object\n",
      " 12  administered                     64 non-null     object\n",
      " 13  administered_12plus              64 non-null     object\n",
      " 14  administered_18plus              64 non-null     object\n",
      " 15  administered_65plus              64 non-null     object\n",
      " 16  administered_janssen             64 non-null     object\n",
      " 17  administered_moderna             64 non-null     object\n",
      " 18  administered_pfizer              64 non-null     object\n",
      " 19  administered_unk_manuf           64 non-null     object\n",
      " 20  admin_per_100k                   64 non-null     object\n",
      " 21  admin_per_100k_12plus            64 non-null     object\n",
      " 22  admin_per_100k_18plus            64 non-null     object\n",
      " 23  admin_per_100k_65plus            64 non-null     object\n",
      " 24  recip_administered               64 non-null     object\n",
      " 25  administered_dose1_recip         64 non-null     object\n",
      " 26  administered_dose1_pop_pct       64 non-null     object\n",
      " 27  administered_dose1_recip_1       64 non-null     object\n",
      " 28  administered_dose1_recip_2       64 non-null     object\n",
      " 29  administered_dose1_recip_3       64 non-null     object\n",
      " 30  administered_dose1_recip_4       64 non-null     object\n",
      " 31  administered_dose1_recip_5       64 non-null     object\n",
      " 32  administered_dose1_recip_6       64 non-null     object\n",
      " 33  series_complete_yes              64 non-null     object\n",
      " 34  series_complete_pop_pct          64 non-null     object\n",
      " 35  series_complete_12plus           64 non-null     object\n",
      " 36  series_complete_12pluspop        64 non-null     object\n",
      " 37  series_complete_18plus           64 non-null     object\n",
      " 38  series_complete_18pluspop        64 non-null     object\n",
      " 39  series_complete_65plus           64 non-null     object\n",
      " 40  series_complete_65pluspop        64 non-null     object\n",
      " 41  series_complete_janssen          64 non-null     object\n",
      " 42  series_complete_moderna          64 non-null     object\n",
      " 43  series_complete_pfizer           64 non-null     object\n",
      " 44  series_complete_unk_manuf        64 non-null     object\n",
      " 45  series_complete_janssen_12plus   64 non-null     object\n",
      " 46  series_complete_moderna_12plus   64 non-null     object\n",
      " 47  series_complete_pfizer_12plus    64 non-null     object\n",
      " 48  series_complete_unk_manuf_1      64 non-null     object\n",
      " 49  series_complete_janssen_18plus   64 non-null     object\n",
      " 50  series_complete_moderna_18plus   64 non-null     object\n",
      " 51  series_complete_pfizer_18plus    64 non-null     object\n",
      " 52  series_complete_unk_manuf_2      64 non-null     object\n",
      " 53  series_complete_janssen_65plus   64 non-null     object\n",
      " 54  series_complete_moderna_65plus   64 non-null     object\n",
      " 55  series_complete_pfizer_65plus    64 non-null     object\n",
      " 56  series_complete_unk_manuf_3      64 non-null     object\n",
      " 57  additional_doses                 64 non-null     object\n",
      " 58  additional_doses_vax_pct         64 non-null     object\n",
      " 59  additional_doses_18plus          64 non-null     object\n",
      " 60  additional_doses_18plus_vax_pct  64 non-null     object\n",
      " 61  additional_doses_50plus          64 non-null     object\n",
      " 62  additional_doses_50plus_vax_pct  64 non-null     object\n",
      " 63  additional_doses_65plus          64 non-null     object\n",
      " 64  additional_doses_65plus_vax_pct  64 non-null     object\n",
      " 65  additional_doses_moderna         64 non-null     object\n",
      " 66  additional_doses_pfizer          64 non-null     object\n",
      " 67  additional_doses_janssen         64 non-null     object\n",
      " 68  additional_doses_unk_manuf       64 non-null     object\n",
      "dtypes: object(69)\n",
      "memory usage: 35.0+ KB\n"
     ]
    }
   ],
   "source": [
    "todaysAdministered.info()"
   ]
  }
 ],
 "metadata": {
  "interpreter": {
   "hash": "f2c8a1743301a7cb30ab93c7645f660a12583e7420143828028bb939169b181f"
  },
  "kernelspec": {
   "display_name": "Python 3.7.6 64-bit ('base': conda)",
   "name": "python3"
  },
  "language_info": {
   "codemirror_mode": {
    "name": "ipython",
    "version": 3
   },
   "file_extension": ".py",
   "mimetype": "text/x-python",
   "name": "python",
   "nbconvert_exporter": "python",
   "pygments_lexer": "ipython3",
   "version": "3.7.6"
  }
 },
 "nbformat": 4,
 "nbformat_minor": 4
}
